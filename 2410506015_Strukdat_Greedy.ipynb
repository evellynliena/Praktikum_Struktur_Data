{
  "nbformat": 4,
  "nbformat_minor": 0,
  "metadata": {
    "colab": {
      "provenance": [],
      "authorship_tag": "ABX9TyNcKJtkCfDHJLsLuXeWTeh6",
      "include_colab_link": true
    },
    "kernelspec": {
      "name": "python3",
      "display_name": "Python 3"
    },
    "language_info": {
      "name": "python"
    }
  },
  "cells": [
    {
      "cell_type": "markdown",
      "metadata": {
        "id": "view-in-github",
        "colab_type": "text"
      },
      "source": [
        "<a href=\"https://colab.research.google.com/github/evellynliena/Praktikum_Struktur_Data/blob/master/2410506015_Strukdat_Greedy.ipynb\" target=\"_parent\"><img src=\"https://colab.research.google.com/assets/colab-badge.svg\" alt=\"Open In Colab\"/></a>"
      ]
    },
    {
      "cell_type": "markdown",
      "source": [
        "# **LATIHAN**"
      ],
      "metadata": {
        "id": "T_gXsRm4Hf3q"
      }
    },
    {
      "cell_type": "code",
      "execution_count": null,
      "metadata": {
        "colab": {
          "base_uri": "https://localhost:8080/"
        },
        "id": "ws9YwI2Px9RV",
        "outputId": "b4ba8269-e668-4ac0-cc25-1c3c07312f2d"
      },
      "outputs": [
        {
          "output_type": "stream",
          "name": "stdout",
          "text": [
            "Koin yang digunakan: [25, 25, 5, 1, 1]\n"
          ]
        }
      ],
      "source": [
        "def coin_change_dynamic(amount, coins):\n",
        "    coins.sort(reverse=True)\n",
        "    result = []\n",
        "    for coin in coins:\n",
        "        while amount >= coin:\n",
        "            amount -= coin\n",
        "            result.append(coin)\n",
        "    return result\n",
        "\n",
        "amount = 57\n",
        "coins = [25, 10, 5, 1]\n",
        "change = coin_change_dynamic(amount, coins)\n",
        "print(\"Koin yang digunakan:\", change)"
      ]
    },
    {
      "cell_type": "code",
      "source": [
        "def fractional_knapsack(items, capacity):\n",
        "    # items = list of tuples (value, weight)\n",
        "    items.sort(key=lambda x: x[0]/x[1], reverse=True)\n",
        "    total_value = 0.0\n",
        "    for value, weight in items:\n",
        "        if capacity >= weight:\n",
        "            capacity -= weight\n",
        "            total_value += value\n",
        "        else:\n",
        "            total_value += value * capacity / weight\n",
        "            break\n",
        "    return total_value\n",
        "\n",
        "items = [(60, 10), (100, 20), (120, 30)]\n",
        "capacity = 50\n",
        "max_value = fractional_knapsack(items, capacity)\n",
        "fractional_knapsack(items, capacity)\n",
        "print(\"Nilai maksimum yang dapat dibawa:\", max_value)"
      ],
      "metadata": {
        "colab": {
          "base_uri": "https://localhost:8080/"
        },
        "id": "8us5JlQv-Hds",
        "outputId": "cb888d5e-1de3-4e62-80c3-97f28f6f6297"
      },
      "execution_count": null,
      "outputs": [
        {
          "output_type": "stream",
          "name": "stdout",
          "text": [
            "Nilai maksimum yang dapat dibawa: 240.0\n"
          ]
        }
      ]
    },
    {
      "source": [
        "import heapq\n",
        "\n",
        "def prim_mst(graph, start):\n",
        "    visited = set()\n",
        "    min_heap = [(0, start)]\n",
        "    total_weight = 0\n",
        "\n",
        "    while min_heap:\n",
        "        weight, node = heapq.heappop(min_heap)\n",
        "        if node in visited:\n",
        "            continue\n",
        "        visited.add(node)\n",
        "        total_weight += weight\n",
        "\n",
        "        # Iterate over the items (key-value pairs) of the neighbor dictionary\n",
        "        for neighbor, edge_weight in graph[node].items():\n",
        "            if neighbor not in visited:\n",
        "                heapq.heappush(min_heap, (edge_weight, neighbor))\n",
        "\n",
        "    return total_weight\n",
        "\n",
        "graph = {\n",
        "    'A': {'B': 2, 'C': 3},\n",
        "    'B': {'A': 2, 'C': 1, 'D': 1},\n",
        "    'C': {'A': 3, 'B': 1, 'D': 4},\n",
        "    'D': {'B': 1, 'C': 4}\n",
        "}\n",
        "\n",
        "print(\"Total bobot MST (Prim):\", prim_mst(graph, 'A'))"
      ],
      "cell_type": "code",
      "metadata": {
        "colab": {
          "base_uri": "https://localhost:8080/"
        },
        "id": "iHD9S43kAN-c",
        "outputId": "faf73d25-f462-4d15-db3c-50626fd42b1d"
      },
      "execution_count": null,
      "outputs": [
        {
          "output_type": "stream",
          "name": "stdout",
          "text": [
            "Total bobot MST (Prim): 4\n"
          ]
        }
      ]
    },
    {
      "cell_type": "code",
      "source": [
        "def kruskal_mst(edges, n_nodes):\n",
        "    parent = {i: i for i in range(n_nodes)}\n",
        "\n",
        "    def find(x):\n",
        "        while parent[x] != x:\n",
        "            x = parent[x]\n",
        "        return x\n",
        "\n",
        "    def union(x, y):\n",
        "        root_x = find(x)\n",
        "        root_y = find(y)\n",
        "        if root_x != root_y:\n",
        "            parent[root_y] = root_x\n",
        "            return True\n",
        "        return False\n",
        "\n",
        "    edges.sort(key=lambda x: x[2])\n",
        "    total_weight = 0\n",
        "    for u, v, weight in edges:\n",
        "        if union(u, v):\n",
        "            total_weight += weight\n",
        "    return total_weight\n",
        "\n",
        "edges = [(0, 1, 2), (0, 2, 3), (1, 2, 1), (1, 3, 1), (2, 3, 4)]\n",
        "print(\"Total bobot MST (Kruskal):\", kruskal_mst(edges, 4))"
      ],
      "metadata": {
        "colab": {
          "base_uri": "https://localhost:8080/"
        },
        "id": "mwukFWBtASQH",
        "outputId": "b903fdcf-752b-49a9-f9d2-0796924a37ae"
      },
      "execution_count": null,
      "outputs": [
        {
          "output_type": "stream",
          "name": "stdout",
          "text": [
            "Total bobot MST (Kruskal): 4\n"
          ]
        }
      ]
    }
  ]
}