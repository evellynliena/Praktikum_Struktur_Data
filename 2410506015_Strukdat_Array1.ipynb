{
  "nbformat": 4,
  "nbformat_minor": 0,
  "metadata": {
    "colab": {
      "provenance": [],
      "collapsed_sections": [
        "vrYwSGs3GWfy",
        "M0npUgNMJOt5",
        "b2OBpWonJ9Co",
        "ajjmziM3LAsF",
        "1p4ps5egMAC4",
        "RxYubeGDPhPV",
        "vDUw4yQQOVXd",
        "1y8zHkGWQETc",
        "1vlDlzgyRO8x",
        "YBC7KKd_SYtC",
        "SEksbJkhTM4Z",
        "RGoW7N_eUCqA",
        "b3WNL3fYVhy9",
        "TexNhPbkXSyJ",
        "ivHEtyl2YnAG"
      ],
      "authorship_tag": "ABX9TyPjGrgO+R/jth28o5OP0sWh",
      "include_colab_link": true
    },
    "kernelspec": {
      "name": "python3",
      "display_name": "Python 3"
    },
    "language_info": {
      "name": "python"
    }
  },
  "cells": [
    {
      "cell_type": "markdown",
      "metadata": {
        "id": "view-in-github",
        "colab_type": "text"
      },
      "source": [
        "<a href=\"https://colab.research.google.com/github/evellynliena/Praktikum_Struktur_Data/blob/master/2410506015_Strukdat_Array1.ipynb\" target=\"_parent\"><img src=\"https://colab.research.google.com/assets/colab-badge.svg\" alt=\"Open In Colab\"/></a>"
      ]
    },
    {
      "cell_type": "markdown",
      "source": [
        "# **TESTS**"
      ],
      "metadata": {
        "id": "vrYwSGs3GWfy"
      }
    },
    {
      "cell_type": "code",
      "execution_count": null,
      "metadata": {
        "colab": {
          "base_uri": "https://localhost:8080/"
        },
        "id": "sH0bZi1kEYva",
        "outputId": "dd38c881-f566-46cc-d187-3a2742373da0"
      },
      "outputs": [
        {
          "output_type": "stream",
          "name": "stdout",
          "text": [
            "array dengan list: [10, 20, 30, 40, 50]\n"
          ]
        }
      ],
      "source": [
        "angka = [10, 20, 30, 40, 50]\n",
        "print(\"array dengan list:\", angka)"
      ]
    },
    {
      "cell_type": "code",
      "source": [
        "import array\n",
        "angka = array.array('i', [10, 20, 30, 40, 50])\n",
        "print(\"array dengan model array:\", angka)"
      ],
      "metadata": {
        "colab": {
          "base_uri": "https://localhost:8080/"
        },
        "id": "x857VUHgIjM-",
        "outputId": "3cc8f252-419d-4837-809b-3c17bdb89718"
      },
      "execution_count": null,
      "outputs": [
        {
          "output_type": "stream",
          "name": "stdout",
          "text": [
            "array dengan model array: array('i', [10, 20, 30, 40, 50])\n"
          ]
        }
      ]
    },
    {
      "cell_type": "code",
      "source": [
        "import numpy as np\n",
        "angka=np.array([10, 20, 30, 40, 50])\n",
        "print(\"array dengan numpy:\", angka)"
      ],
      "metadata": {
        "colab": {
          "base_uri": "https://localhost:8080/"
        },
        "id": "sdSySCUeI_jL",
        "outputId": "ed44fc44-1121-4249-8c2f-a4b736568ad9"
      },
      "execution_count": null,
      "outputs": [
        {
          "output_type": "stream",
          "name": "stdout",
          "text": [
            "array dengan numpy: [10 20 30 40 50]\n"
          ]
        }
      ]
    },
    {
      "cell_type": "markdown",
      "source": [
        "# Jenis Array"
      ],
      "metadata": {
        "id": "M0npUgNMJOt5"
      }
    },
    {
      "cell_type": "code",
      "source": [
        "#1 dimensi\n",
        "import numpy as np\n",
        "angka=np.array([1, 2, 3, 4, 5])\n",
        "print(\"array satu dimensi:\", angka)"
      ],
      "metadata": {
        "colab": {
          "base_uri": "https://localhost:8080/"
        },
        "id": "p6Sb4JJ6JRs5",
        "outputId": "5b4d8b43-ef51-442c-bfe3-c7aa21a20430"
      },
      "execution_count": null,
      "outputs": [
        {
          "output_type": "stream",
          "name": "stdout",
          "text": [
            "array satu dimensi: [1 2 3 4 5]\n"
          ]
        }
      ]
    },
    {
      "cell_type": "code",
      "source": [
        "#2 dimensi\n",
        "matriks=np.array([[1, 2], [3, 4], [5, 6]])\n",
        "print(\"array dua dimensi:\", matriks)"
      ],
      "metadata": {
        "colab": {
          "base_uri": "https://localhost:8080/"
        },
        "id": "ecj-q2PwJdYp",
        "outputId": "e8e582e5-32e7-4b23-a9f6-25e8486c1780"
      },
      "execution_count": null,
      "outputs": [
        {
          "output_type": "stream",
          "name": "stdout",
          "text": [
            "array dua dimensi: [[1 2]\n",
            " [3 4]\n",
            " [5 6]]\n"
          ]
        }
      ]
    },
    {
      "cell_type": "code",
      "source": [
        "#multidimensi\n",
        "array3d=np.array([[[1, 2], [3, 4]], [[5, 6], [7, 8]]])\n",
        "print(\"array tiga dimensi:\", array3d)"
      ],
      "metadata": {
        "colab": {
          "base_uri": "https://localhost:8080/"
        },
        "id": "G1hvHrmSJyEC",
        "outputId": "b24699dd-514f-4eb4-a3d4-5ef6149dd23c"
      },
      "execution_count": null,
      "outputs": [
        {
          "output_type": "stream",
          "name": "stdout",
          "text": [
            "array tiga dimensi: [[[1 2]\n",
            "  [3 4]]\n",
            "\n",
            " [[5 6]\n",
            "  [7 8]]]\n"
          ]
        }
      ]
    },
    {
      "cell_type": "markdown",
      "source": [
        "# Implementasi"
      ],
      "metadata": {
        "id": "b2OBpWonJ9Co"
      }
    },
    {
      "cell_type": "code",
      "source": [
        "angka = [ ]"
      ],
      "metadata": {
        "id": "a-Ui8IVYJ_y6"
      },
      "execution_count": null,
      "outputs": []
    },
    {
      "cell_type": "code",
      "source": [
        "angka = [10, 20, 30, 40, 50]"
      ],
      "metadata": {
        "id": "K2NwNNxuKD4U"
      },
      "execution_count": null,
      "outputs": []
    },
    {
      "cell_type": "code",
      "source": [
        "print(\"Elemen pertama:\", angka[0])\n",
        "print(\"Elemen terakhir:\", angka[-1])"
      ],
      "metadata": {
        "colab": {
          "base_uri": "https://localhost:8080/"
        },
        "id": "wCjM0XpKKaEg",
        "outputId": "fe83d8d2-40c4-41a5-c3e8-3d943fa61395"
      },
      "execution_count": null,
      "outputs": [
        {
          "output_type": "stream",
          "name": "stdout",
          "text": [
            "Elemen pertama: 10\n",
            "Elemen terakhir: 50\n"
          ]
        }
      ]
    },
    {
      "cell_type": "code",
      "source": [
        "angka.append(60)\n",
        "print(\"Setelah append:\", angka)"
      ],
      "metadata": {
        "colab": {
          "base_uri": "https://localhost:8080/"
        },
        "id": "7Jel4PerKwC5",
        "outputId": "8df927b1-2558-47cf-9c57-d4facc938dfe"
      },
      "execution_count": null,
      "outputs": [
        {
          "output_type": "stream",
          "name": "stdout",
          "text": [
            "Setelah append: [10, 20, 40, 50, 60, 60, 60, 60]\n"
          ]
        }
      ]
    },
    {
      "cell_type": "code",
      "source": [
        "angka.remove(30)\n",
        "print(\"Setelah remove:\", angka)"
      ],
      "metadata": {
        "colab": {
          "base_uri": "https://localhost:8080/"
        },
        "id": "bd9oBmVvKzyq",
        "outputId": "1fcc68a5-f0d3-492e-f039-c3d478797127"
      },
      "execution_count": null,
      "outputs": [
        {
          "output_type": "stream",
          "name": "stdout",
          "text": [
            "Setelah remove: [10, 20, 40, 50, 60]\n"
          ]
        }
      ]
    },
    {
      "cell_type": "code",
      "source": [
        "for nilai in angka:\n",
        "    print(nilai)"
      ],
      "metadata": {
        "colab": {
          "base_uri": "https://localhost:8080/"
        },
        "id": "N-MLi3xcK5Yu",
        "outputId": "9bfed0ff-aedf-4d4b-eea4-96ccc4de8c08"
      },
      "execution_count": null,
      "outputs": [
        {
          "output_type": "stream",
          "name": "stdout",
          "text": [
            "10\n",
            "20\n",
            "40\n",
            "50\n",
            "60\n"
          ]
        }
      ]
    },
    {
      "cell_type": "markdown",
      "source": [
        "# Operasi dasar"
      ],
      "metadata": {
        "id": "ajjmziM3LAsF"
      }
    },
    {
      "cell_type": "code",
      "source": [
        "print(\"Elemen pertama:\", angka[0])"
      ],
      "metadata": {
        "colab": {
          "base_uri": "https://localhost:8080/"
        },
        "id": "yJMzJ32oLDgt",
        "outputId": "133253dd-0a8f-4d7e-fbb9-1a88d34c02e0"
      },
      "execution_count": null,
      "outputs": [
        {
          "output_type": "stream",
          "name": "stdout",
          "text": [
            "Elemen pertama: 10\n"
          ]
        }
      ]
    },
    {
      "cell_type": "code",
      "source": [
        "angka = np.append(angka, [60, 70])\n",
        "print(\"Setelah append:\", angka)"
      ],
      "metadata": {
        "colab": {
          "base_uri": "https://localhost:8080/"
        },
        "id": "gKJ7aKnyLRCl",
        "outputId": "e53576e7-3129-465e-e6d4-823371fbb99d"
      },
      "execution_count": null,
      "outputs": [
        {
          "output_type": "stream",
          "name": "stdout",
          "text": [
            "Setelah append: [10 20 40 50 60 60 70]\n"
          ]
        }
      ]
    },
    {
      "cell_type": "code",
      "source": [
        "angka = (np.delete(angka, 2))\n",
        "print(\"Setelah remove:\", angka)"
      ],
      "metadata": {
        "colab": {
          "base_uri": "https://localhost:8080/"
        },
        "id": "1nkO9Ao5LlJk",
        "outputId": "e6d1c7a1-43bf-4b14-f36a-cd67ae950668"
      },
      "execution_count": null,
      "outputs": [
        {
          "output_type": "stream",
          "name": "stdout",
          "text": [
            "Setelah remove: [10 20 50 60 60 70]\n"
          ]
        }
      ]
    },
    {
      "cell_type": "code",
      "source": [
        "print(\"jumlah elemen:\", len(angka))"
      ],
      "metadata": {
        "colab": {
          "base_uri": "https://localhost:8080/"
        },
        "id": "9waoJuo2LqIj",
        "outputId": "03063671-3a55-46f8-87d1-e138b3470e1d"
      },
      "execution_count": null,
      "outputs": [
        {
          "output_type": "stream",
          "name": "stdout",
          "text": [
            "jumlah elemen: 6\n"
          ]
        }
      ]
    },
    {
      "cell_type": "markdown",
      "source": [
        "# **Langkah Praktikum**"
      ],
      "metadata": {
        "id": "1p4ps5egMAC4"
      }
    },
    {
      "cell_type": "code",
      "source": [
        "data= []\n",
        "angka= [10, 20, 30, 40, 50]\n",
        "print(\"Isi array angka\", angka)"
      ],
      "metadata": {
        "colab": {
          "base_uri": "https://localhost:8080/"
        },
        "id": "1S4bSkW4MGJv",
        "outputId": "d000dbb6-b90e-4f13-8915-0de48c5fcd77"
      },
      "execution_count": null,
      "outputs": [
        {
          "output_type": "stream",
          "name": "stdout",
          "text": [
            "Isi array angka [10, 20, 30, 40, 50]\n"
          ]
        }
      ]
    },
    {
      "cell_type": "markdown",
      "source": [
        "# Latihan 1"
      ],
      "metadata": {
        "id": "RxYubeGDPhPV"
      }
    },
    {
      "cell_type": "code",
      "source": [
        "NPM = [2410506011, 2410506012, 2410506013, 2410506014, 2410506015, 2410506016, 2410506017, 2410506018, 2410506019]\n",
        "print(\"array NPM:\", NPM)"
      ],
      "metadata": {
        "colab": {
          "base_uri": "https://localhost:8080/"
        },
        "id": "Kp0I3ys_PjVM",
        "outputId": "6603014b-c376-4082-f1f4-0838bbd118c7"
      },
      "execution_count": null,
      "outputs": [
        {
          "output_type": "stream",
          "name": "stdout",
          "text": [
            "array NPM: [2410506011, 2410506012, 2410506013, 2410506014, 2410506015, 2410506016, 2410506017, 2410506018, 2410506019]\n"
          ]
        }
      ]
    },
    {
      "cell_type": "markdown",
      "source": [
        "# Latihan 2"
      ],
      "metadata": {
        "id": "vDUw4yQQOVXd"
      }
    },
    {
      "cell_type": "code",
      "source": [
        "print(\"Elemen pertama:\", angka[0])\n",
        "print(\"Elemen terakhir:\", angka[-1])"
      ],
      "metadata": {
        "colab": {
          "base_uri": "https://localhost:8080/"
        },
        "id": "8EPXnKblMfxI",
        "outputId": "62235442-52b5-4e26-d17c-7f84d813b11d"
      },
      "execution_count": null,
      "outputs": [
        {
          "output_type": "stream",
          "name": "stdout",
          "text": [
            "Elemen pertama: 10\n",
            "Elemen terakhir: 50\n"
          ]
        }
      ]
    },
    {
      "cell_type": "code",
      "source": [
        "angka.append(60)\n",
        "print(\"Array setelah penambahan elemen:\", angka)\n",
        "\n",
        "angka.insert(2, 25)\n",
        "print(\"Array setelah penambahan elemen dalam insert:\", angka)"
      ],
      "metadata": {
        "colab": {
          "base_uri": "https://localhost:8080/"
        },
        "id": "7BXs9TmHMnwJ",
        "outputId": "bd1da982-380b-48e7-a9fb-ff53f159b4b2"
      },
      "execution_count": null,
      "outputs": [
        {
          "output_type": "stream",
          "name": "stdout",
          "text": [
            "Array setelah penambahan elemen: [10, 20, 25, 30, 40, 50, 60, 60]\n",
            "Array setelah penambahan elemen dalam insert: [10, 20, 25, 25, 30, 40, 50, 60, 60]\n"
          ]
        }
      ]
    },
    {
      "cell_type": "code",
      "source": [
        "angka.remove(25)\n",
        "print(\"Array setelah menghapus elemen 25:\", angka)\n",
        "\n",
        "angka.pop(2)\n",
        "print(\"Array setelah menghapus elemen indeks kedua:\", angka)"
      ],
      "metadata": {
        "colab": {
          "base_uri": "https://localhost:8080/"
        },
        "id": "yrAgX2nkM-Yp",
        "outputId": "1ac7a1f7-5bbb-47d8-c712-d17f8c1d2ba9"
      },
      "execution_count": null,
      "outputs": [
        {
          "output_type": "stream",
          "name": "stdout",
          "text": [
            "Array setelah menghapus elemen 25: [10, 20, 30, 40, 50, 60]\n",
            "Array setelah menghapus elemen indeks kedua: [10, 20, 40, 50, 60]\n"
          ]
        }
      ]
    },
    {
      "cell_type": "code",
      "source": [
        "angka[0]= 100\n",
        "print(\"Array setelah mengubah elemen pertama:\", angka)"
      ],
      "metadata": {
        "colab": {
          "base_uri": "https://localhost:8080/"
        },
        "id": "B6t8Ma-WN2Od",
        "outputId": "c8c610a9-5e42-4dd5-ea05-fd00f7ef8d50"
      },
      "execution_count": null,
      "outputs": [
        {
          "output_type": "stream",
          "name": "stdout",
          "text": [
            "Array setelah mengubah elemen pertama: [100, 20, 40, 50, 60]\n"
          ]
        }
      ]
    },
    {
      "cell_type": "markdown",
      "source": [
        "NPM"
      ],
      "metadata": {
        "id": "HXNsxkxIOfY1"
      }
    },
    {
      "cell_type": "code",
      "source": [
        "angka.insert(2, 15)\n",
        "print(\"Array setelah penambahan elemen dalam insert:\", angka)"
      ],
      "metadata": {
        "colab": {
          "base_uri": "https://localhost:8080/"
        },
        "id": "9PKFdGs4OuZU",
        "outputId": "eb887d21-0a8d-49b1-f379-0d94b0f567c8"
      },
      "execution_count": null,
      "outputs": [
        {
          "output_type": "stream",
          "name": "stdout",
          "text": [
            "Array setelah penambahan elemen dalam insert: [100, 20, 15, 40, 50, 60]\n"
          ]
        }
      ]
    },
    {
      "cell_type": "code",
      "source": [
        "angka.pop(0)\n",
        "print(\"Array setelah menghapus elemen pertama:\", angka)"
      ],
      "metadata": {
        "colab": {
          "base_uri": "https://localhost:8080/"
        },
        "id": "mxgs5On5PAM-",
        "outputId": "7e3be675-2393-4f39-cf05-6d33bd8b6170"
      },
      "execution_count": null,
      "outputs": [
        {
          "output_type": "stream",
          "name": "stdout",
          "text": [
            "Array setelah menghapus elemen pertama: [20, 15, 40, 50, 60]\n"
          ]
        }
      ]
    },
    {
      "cell_type": "markdown",
      "source": [
        "# Latihan 3"
      ],
      "metadata": {
        "id": "1y8zHkGWQETc"
      }
    },
    {
      "cell_type": "code",
      "source": [
        "angka= [10, 20, 30, 40]\n",
        "for nilai in angka:\n",
        "    print(\"Nilai:\", nilai)"
      ],
      "metadata": {
        "colab": {
          "base_uri": "https://localhost:8080/"
        },
        "id": "P-aewPXBQILI",
        "outputId": "956e558d-bcd7-4063-83cc-51338a4acbb8"
      },
      "execution_count": null,
      "outputs": [
        {
          "output_type": "stream",
          "name": "stdout",
          "text": [
            "Nilai: 10\n",
            "Nilai: 20\n",
            "Nilai: 30\n",
            "Nilai: 40\n"
          ]
        }
      ]
    },
    {
      "cell_type": "code",
      "source": [
        "Fakultas= ['Ekonomi', 'Keguruan dan Ilmu Pendidikan', 'Ilmu Sosial dan Ilmu Politik', 'Pertanian', 'Teknik']\n",
        "for nilai in Fakultas:\n",
        "    print(\"Fakultas:\", nilai)"
      ],
      "metadata": {
        "colab": {
          "base_uri": "https://localhost:8080/"
        },
        "id": "4LuaRsFDQaoU",
        "outputId": "b9817c48-53cd-4e5b-cbca-1e7f4cec7899"
      },
      "execution_count": null,
      "outputs": [
        {
          "output_type": "stream",
          "name": "stdout",
          "text": [
            "Fakultas: Ekonomi\n",
            "Fakultas: Keguruan dan Ilmu Pendidikan\n",
            "Fakultas: Ilmu Sosial dan Ilmu Politik\n",
            "Fakultas: Pertanian\n",
            "Fakultas: Teknik\n"
          ]
        }
      ]
    },
    {
      "cell_type": "markdown",
      "source": [
        "# Latihan 4"
      ],
      "metadata": {
        "id": "1vlDlzgyRO8x"
      }
    },
    {
      "cell_type": "code",
      "source": [
        "angka= [10, 20, 30, 40]\n",
        "print(\"Jumlah Total:\", sum(angka))\n",
        "print(\"Nilai Maksimum:\", max(angka))\n",
        "print(\"Nilai Minimum:\", min(angka))"
      ],
      "metadata": {
        "colab": {
          "base_uri": "https://localhost:8080/"
        },
        "id": "bbf0rfSARVj4",
        "outputId": "7ab2f62f-b19a-403a-fd02-58a0498b25bb"
      },
      "execution_count": null,
      "outputs": [
        {
          "output_type": "stream",
          "name": "stdout",
          "text": [
            "Jumlah Total: 100\n",
            "Nilai Maksimum: 40\n",
            "Nilai Minimum: 10\n"
          ]
        }
      ]
    },
    {
      "cell_type": "code",
      "source": [
        "hargamie= [3000, 3500, 4000, 4500, 5000]\n",
        "print(\"Jumlah Harga:\", sum(hargamie))\n",
        "print(\"Harga terbesar:\", max(hargamie))\n",
        "print(\"Harga terkecil:\", min(hargamie))"
      ],
      "metadata": {
        "colab": {
          "base_uri": "https://localhost:8080/"
        },
        "id": "9bnQxJiaRzDx",
        "outputId": "0126c727-9145-49bb-96c1-7ab9d1ab296c"
      },
      "execution_count": null,
      "outputs": [
        {
          "output_type": "stream",
          "name": "stdout",
          "text": [
            "Jumlah Harga: 20000\n",
            "Harga terbesar: 5000\n",
            "Harga terkecil: 3000\n"
          ]
        }
      ]
    },
    {
      "cell_type": "markdown",
      "source": [
        "# Latihan 5"
      ],
      "metadata": {
        "id": "YBC7KKd_SYtC"
      }
    },
    {
      "cell_type": "code",
      "source": [
        "matriks= [\n",
        "    [1, 2, 3],\n",
        "    [4, 5, 6],\n",
        "    [7, 8, 9]\n",
        "]\n",
        "\n",
        "print(\"Isi array 2d:\")\n",
        "for baris in matriks:\n",
        "    print(baris)"
      ],
      "metadata": {
        "colab": {
          "base_uri": "https://localhost:8080/"
        },
        "id": "hnfR3ogqSauq",
        "outputId": "19554702-8534-4d8e-cd50-4ff9a02a0e31"
      },
      "execution_count": null,
      "outputs": [
        {
          "output_type": "stream",
          "name": "stdout",
          "text": [
            "Isi array 2d:\n",
            "[1, 2, 3]\n",
            "[4, 5, 6]\n",
            "[7, 8, 9]\n"
          ]
        }
      ]
    },
    {
      "cell_type": "code",
      "source": [
        "matrikz= [\n",
        "    [1, 2, 3, 4],\n",
        "    [5, 6, 7, 8],\n",
        "    [9, 10, 11, 12]\n",
        "]\n",
        "\n",
        "print(\"Isi array 2d:\")\n",
        "for baris in matrikz:\n",
        "    print(baris)"
      ],
      "metadata": {
        "colab": {
          "base_uri": "https://localhost:8080/"
        },
        "id": "5gCezz7IS8yh",
        "outputId": "e504ca32-4f04-4ae6-d0a2-358ef5b166fa"
      },
      "execution_count": null,
      "outputs": [
        {
          "output_type": "stream",
          "name": "stdout",
          "text": [
            "Isi array 2d:\n",
            "[1, 2, 3, 4]\n",
            "[5, 6, 7, 8]\n",
            "[9, 10, 11, 12]\n"
          ]
        }
      ]
    },
    {
      "cell_type": "markdown",
      "source": [
        "# Latihan 6"
      ],
      "metadata": {
        "id": "SEksbJkhTM4Z"
      }
    },
    {
      "cell_type": "code",
      "source": [
        "matriks= [\n",
        "    [1, 2, 3],\n",
        "    [4, 5, 6],\n",
        "    [7, 8, 9]\n",
        "]\n",
        "\n",
        "print(\"Isi array 2d:\")\n",
        "for baris in matriks:\n",
        "    print(baris)"
      ],
      "metadata": {
        "colab": {
          "base_uri": "https://localhost:8080/"
        },
        "id": "bz4roaB3TphG",
        "outputId": "6481b46c-b373-4328-d066-e6e5f1f315be"
      },
      "execution_count": null,
      "outputs": [
        {
          "output_type": "stream",
          "name": "stdout",
          "text": [
            "Isi array 2d:\n",
            "[1, 2, 3]\n",
            "[4, 5, 6]\n",
            "[7, 8, 9]\n"
          ]
        }
      ]
    },
    {
      "cell_type": "code",
      "source": [
        "print(\"Elemen pada baris 1, kolom 2:\", matriks[0][1])\n",
        "print(\"Elemen terakhir:\", matriks[-1][-1])"
      ],
      "metadata": {
        "colab": {
          "base_uri": "https://localhost:8080/"
        },
        "id": "-r182oegTPPl",
        "outputId": "5d9b0525-cc43-459d-b3c2-9968a704a34c"
      },
      "execution_count": null,
      "outputs": [
        {
          "output_type": "stream",
          "name": "stdout",
          "text": [
            "Elemen pada baris 1, kolom 2: 2\n",
            "Elemen terakhir: 9\n"
          ]
        }
      ]
    },
    {
      "cell_type": "code",
      "source": [
        "matrikz= [\n",
        "    [1, 2, 3, 4],\n",
        "    [5, 6, 7, 8],\n",
        "    [9, 10, 11, 12]\n",
        "]\n",
        "\n",
        "print(\"Isi array 2d:\")\n",
        "for baris in matrikz:\n",
        "    print(baris)"
      ],
      "metadata": {
        "colab": {
          "base_uri": "https://localhost:8080/"
        },
        "id": "6gSv8sUTTuig",
        "outputId": "ef8faa1c-c93a-4521-af01-529bf452e874"
      },
      "execution_count": null,
      "outputs": [
        {
          "output_type": "stream",
          "name": "stdout",
          "text": [
            "Isi array 2d:\n",
            "[1, 2, 3, 4]\n",
            "[5, 6, 7, 8]\n",
            "[9, 10, 11, 12]\n"
          ]
        }
      ]
    },
    {
      "cell_type": "code",
      "source": [
        "print(\"Elemen pada baris 2, kolom 4:\", matrikz[1][3])"
      ],
      "metadata": {
        "colab": {
          "base_uri": "https://localhost:8080/"
        },
        "id": "fsImfeZeT2Gc",
        "outputId": "5d88647c-055e-4909-e091-57f9b8afb2b3"
      },
      "execution_count": null,
      "outputs": [
        {
          "output_type": "stream",
          "name": "stdout",
          "text": [
            "Elemen pada baris 2, kolom 4: 8\n"
          ]
        }
      ]
    },
    {
      "cell_type": "markdown",
      "source": [
        "# Latihan 7"
      ],
      "metadata": {
        "id": "RGoW7N_eUCqA"
      }
    },
    {
      "cell_type": "code",
      "source": [
        "matriks= [\n",
        "    [1, 2, 3],\n",
        "    [4, 5, 6],\n",
        "    [7, 8, 9]\n",
        "]\n",
        "\n",
        "print(\"Isi array 2d:\")\n",
        "for baris in matriks:\n",
        "    print(baris)"
      ],
      "metadata": {
        "colab": {
          "base_uri": "https://localhost:8080/"
        },
        "id": "nt91PYqTUHQ-",
        "outputId": "3e96b100-14d6-4f29-9bb2-e88c3b94abb7"
      },
      "execution_count": null,
      "outputs": [
        {
          "output_type": "stream",
          "name": "stdout",
          "text": [
            "Isi array 2d:\n",
            "[1, 2, 3]\n",
            "[4, 5, 6]\n",
            "[7, 8, 9]\n"
          ]
        }
      ]
    },
    {
      "cell_type": "code",
      "source": [
        "matriks.append([10, 11, 12])\n",
        "print(\"Array setelah menambahan matriks baru:\", matriks)\n",
        "\n",
        "matriks[1].append(99)\n",
        "print(\"Array setelah menambahan elemen di baris kedua:\", matriks)"
      ],
      "metadata": {
        "colab": {
          "base_uri": "https://localhost:8080/"
        },
        "id": "m1prJ71WUPf0",
        "outputId": "943817bb-d3a1-46e2-bc78-539e5916321d"
      },
      "execution_count": null,
      "outputs": [
        {
          "output_type": "stream",
          "name": "stdout",
          "text": [
            "Array setelah menambahan matriks baru: [[1, 2, 3], [4, 5, 6], [7, 8, 9], [10, 11, 12]]\n",
            "Array setelah menambahan elemen di baris kedua: [[1, 2, 3], [4, 5, 6, 99], [7, 8, 9], [10, 11, 12]]\n"
          ]
        }
      ]
    },
    {
      "cell_type": "code",
      "source": [
        "matrikz= [\n",
        "    [1, 2, 3, 4],\n",
        "    [5, 6, 7, 8],\n",
        "    [9, 10, 11, 12]\n",
        "]\n",
        "\n",
        "print(\"Isi array 2d:\")\n",
        "for baris in matrikz:\n",
        "    print(baris)"
      ],
      "metadata": {
        "colab": {
          "base_uri": "https://localhost:8080/"
        },
        "id": "WPfkN7UcUwNF",
        "outputId": "99f951e1-cb98-4371-b7d0-a93904d804a6"
      },
      "execution_count": null,
      "outputs": [
        {
          "output_type": "stream",
          "name": "stdout",
          "text": [
            "Isi array 2d:\n",
            "[1, 2, 3, 4]\n",
            "[5, 6, 7, 8]\n",
            "[9, 10, 11, 12]\n"
          ]
        }
      ]
    },
    {
      "cell_type": "code",
      "source": [
        "matrikz.append([11, 9, 20, 6])\n",
        "print(\"Array setelah menambahan matriks baru:\", matrikz)"
      ],
      "metadata": {
        "colab": {
          "base_uri": "https://localhost:8080/"
        },
        "id": "3n5uXGsqU3d-",
        "outputId": "3c8ad486-b786-4304-dd9b-c034e5f6de1e"
      },
      "execution_count": null,
      "outputs": [
        {
          "output_type": "stream",
          "name": "stdout",
          "text": [
            "Array setelah menambahan matriks baru: [[1, 2, 3, 4], [5, 6, 7, 8], [9, 10, 11, 12], [11, 9, 20, 6]]\n"
          ]
        }
      ]
    },
    {
      "cell_type": "markdown",
      "source": [
        "# Latihan 8"
      ],
      "metadata": {
        "id": "b3WNL3fYVhy9"
      }
    },
    {
      "cell_type": "code",
      "source": [
        "matriks= [\n",
        "    [1, 2, 3],\n",
        "    [4, 5, 6],\n",
        "    [7, 8, 9]\n",
        "]\n",
        "\n",
        "print(\"Isi array 2d:\")\n",
        "for baris in matriks:\n",
        "    print(baris)"
      ],
      "metadata": {
        "colab": {
          "base_uri": "https://localhost:8080/"
        },
        "id": "s2SmEE3tWM7K",
        "outputId": "00f2c565-3245-496c-9801-706e76c6415d"
      },
      "execution_count": null,
      "outputs": [
        {
          "output_type": "stream",
          "name": "stdout",
          "text": [
            "Isi array 2d:\n",
            "[1, 2, 3]\n",
            "[4, 5, 6]\n",
            "[7, 8, 9]\n"
          ]
        }
      ]
    },
    {
      "cell_type": "code",
      "source": [
        "matriks[0].remove(2)\n",
        "print(\"Array setelah menghapus elemen 2 dari baris pertama:\", matriks)\n",
        "\n",
        "matriks[1].pop(1)\n",
        "print(\"Array setelah menghapus elemen indeks kesatu dari baris kedua:\", matriks)"
      ],
      "metadata": {
        "colab": {
          "base_uri": "https://localhost:8080/"
        },
        "id": "eMnFw5-HVk1N",
        "outputId": "e39095f1-b30f-428c-8199-3ca4da8e480b"
      },
      "execution_count": null,
      "outputs": [
        {
          "output_type": "stream",
          "name": "stdout",
          "text": [
            "Array setelah menghapus elemen 2 dari baris pertama: [[1, 3], [4, 5, 6], [7, 8, 9]]\n",
            "Array setelah menghapus elemen indeks kesatu dari baris kedua: [[1, 3], [4, 6], [7, 8, 9]]\n"
          ]
        }
      ]
    },
    {
      "cell_type": "code",
      "source": [
        "matrikz= [\n",
        "    [1, 2, 3, 4],\n",
        "    [5, 6, 7, 8],\n",
        "    [9, 10, 11, 12],\n",
        "    [11, 9, 20, 6]\n",
        "]\n",
        "for baris in matrikz:\n",
        "    print(baris)"
      ],
      "metadata": {
        "colab": {
          "base_uri": "https://localhost:8080/"
        },
        "id": "F620bjIbWR95",
        "outputId": "a5deadd8-803c-4164-f714-4d6911e72836"
      },
      "execution_count": null,
      "outputs": [
        {
          "output_type": "stream",
          "name": "stdout",
          "text": [
            "[1, 2, 3, 4]\n",
            "[5, 6, 7, 8]\n",
            "[9, 10, 11, 12]\n",
            "[11, 9, 20, 6]\n"
          ]
        }
      ]
    },
    {
      "cell_type": "code",
      "source": [
        "matrikz[-1].pop(2)\n",
        "print(\"Array setelah menghapus elemen 3 dari baris terakhir:\", matrikz)"
      ],
      "metadata": {
        "colab": {
          "base_uri": "https://localhost:8080/"
        },
        "id": "dZoOZ0WnWVGq",
        "outputId": "ed1f3e01-70d5-4793-ae96-8bdc281b3857"
      },
      "execution_count": null,
      "outputs": [
        {
          "output_type": "stream",
          "name": "stdout",
          "text": [
            "Array setelah menghapus elemen 3 dari baris terakhir: [[1, 2, 3, 4], [5, 6, 7, 8], [9, 10, 11, 12], [11, 9, 6]]\n"
          ]
        }
      ]
    },
    {
      "cell_type": "markdown",
      "source": [
        "# Latihan 9"
      ],
      "metadata": {
        "id": "TexNhPbkXSyJ"
      }
    },
    {
      "cell_type": "code",
      "source": [
        "matriks= [\n",
        "    [1, 3],\n",
        "    [4, 6],\n",
        "    [7, 8, 9]\n",
        "]\n",
        "\n",
        "matriks[2][1] = 88\n",
        "print(\"Array setelah mengubah elemen baris ketiga, kolom kedua:\", matriks)"
      ],
      "metadata": {
        "colab": {
          "base_uri": "https://localhost:8080/"
        },
        "id": "yVr5hHarXWCl",
        "outputId": "3991dc4d-3040-481b-f731-f2523197b6f2"
      },
      "execution_count": null,
      "outputs": [
        {
          "output_type": "stream",
          "name": "stdout",
          "text": [
            "Array setelah mengubah elemen baris ketiga, kolom kedua: [[1, 3], [4, 6], [7, 88, 9]]\n"
          ]
        }
      ]
    },
    {
      "cell_type": "code",
      "source": [
        "matrikz= [\n",
        "    [1, 2, 3, 4],\n",
        "    [5, 6, 7, 8],\n",
        "    [9, 10, 11, 12],\n",
        "    [11, 9, 6]\n",
        "]\n",
        "\n",
        "matrikz[-1] = [14, 2, 20, 25]\n",
        "print(\"Array setelah mengubah elemen baris terakhir:\", matrikz)"
      ],
      "metadata": {
        "colab": {
          "base_uri": "https://localhost:8080/"
        },
        "id": "3oYYQqetYK2L",
        "outputId": "1512009b-93c1-4b2a-f857-8f81c43a5b89"
      },
      "execution_count": null,
      "outputs": [
        {
          "output_type": "stream",
          "name": "stdout",
          "text": [
            "Array setelah mengubah elemen baris terakhir: [[1, 2, 3, 4], [5, 6, 7, 8], [9, 10, 11, 12], [14, 2, 20, 25]]\n"
          ]
        }
      ]
    },
    {
      "cell_type": "markdown",
      "source": [
        "# Latihan 10"
      ],
      "metadata": {
        "id": "ivHEtyl2YnAG"
      }
    },
    {
      "cell_type": "code",
      "source": [
        "belanja= [\"Beras\", \"Gula\", \"Minyak\"]\n",
        "belanja.append(\"Teh\")\n",
        "belanja.remove(\"Gula\")\n",
        "print(\"Daftar belanja terbaru:\", belanja)"
      ],
      "metadata": {
        "colab": {
          "base_uri": "https://localhost:8080/"
        },
        "id": "ENiCLhBkYp2Z",
        "outputId": "71b38ff9-f32f-4118-81fd-5f233275d242"
      },
      "execution_count": null,
      "outputs": [
        {
          "output_type": "stream",
          "name": "stdout",
          "text": [
            "Daftar belanja terbaru: ['Beras', 'Minyak', 'Teh']\n"
          ]
        }
      ]
    },
    {
      "cell_type": "code",
      "source": [
        "belanja= [\"Beras\", \"Ayam\", \"Minyak\", \"Ikan\", \"Tisu\"]\n",
        "belanja.insert(2, \"Telur\")\n",
        "belanja.append(\"Micin\")\n",
        "belanja.remove(\"Tisu\")\n",
        "print(\"Daftar belanja terbaru:\", belanja)"
      ],
      "metadata": {
        "colab": {
          "base_uri": "https://localhost:8080/"
        },
        "id": "am3CLt76ZDIN",
        "outputId": "5a4de08d-fc65-42f1-86d6-059d01aeeb89"
      },
      "execution_count": null,
      "outputs": [
        {
          "output_type": "stream",
          "name": "stdout",
          "text": [
            "Daftar belanja terbaru: ['Beras', 'Ayam', 'Telur', 'Minyak', 'Ikan', 'Micin']\n"
          ]
        }
      ]
    }
  ]
}