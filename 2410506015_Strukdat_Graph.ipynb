{
  "nbformat": 4,
  "nbformat_minor": 0,
  "metadata": {
    "colab": {
      "provenance": [],
      "authorship_tag": "ABX9TyMxGfEzC2UMx036prglPl+g",
      "include_colab_link": true
    },
    "kernelspec": {
      "name": "python3",
      "display_name": "Python 3"
    },
    "language_info": {
      "name": "python"
    }
  },
  "cells": [
    {
      "cell_type": "markdown",
      "metadata": {
        "id": "view-in-github",
        "colab_type": "text"
      },
      "source": [
        "<a href=\"https://colab.research.google.com/github/evellynliena/Praktikum_Struktur_Data/blob/master/2410506015_Strukdat_Graph.ipynb\" target=\"_parent\"><img src=\"https://colab.research.google.com/assets/colab-badge.svg\" alt=\"Open In Colab\"/></a>"
      ]
    },
    {
      "cell_type": "code",
      "execution_count": 6,
      "metadata": {
        "colab": {
          "base_uri": "https://localhost:8080/"
        },
        "id": "qfG_dF_prato",
        "outputId": "7b41acb1-5510-41e9-d539-ff7673f972ea"
      },
      "outputs": [
        {
          "output_type": "stream",
          "name": "stdout",
          "text": [
            "A — ['B', 'C']\n",
            "B — ['A', 'D', 'E']\n",
            "C — ['A', 'F']\n",
            "D — ['B']\n",
            "E — ['B', 'F']\n",
            "F — ['C', 'E']\n"
          ]
        }
      ],
      "source": [
        "graph = {\n",
        "    'A': ['B', 'C'],\n",
        "    'B': ['A', 'D', 'E'],\n",
        "    'C': ['A', 'F'],\n",
        "    'D': ['B'],\n",
        "    'E': ['B', 'F'],\n",
        "    'F': ['C', 'E']\n",
        "}\n",
        "\n",
        "def print_graph (graf) :\n",
        "    for node in graf:\n",
        "        print (f\"{node} — {graf[node]}\")\n",
        "\n",
        "print_graph (graph)"
      ]
    },
    {
      "cell_type": "code",
      "source": [
        "from collections import deque\n",
        "def bfs(graph, start):\n",
        "    visited = set ()\n",
        "    queue = deque ([start])\n",
        "\n",
        "    while queue:\n",
        "        vertex = queue.popleft ()\n",
        "        if vertex not in visited:\n",
        "            print (vertex, end=' ')\n",
        "            visited.add (vertex)\n",
        "            queue.extend ([neighbor for neighbor in graph[vertex] if neighbor not in visited])\n",
        "\n",
        "bfs (graph, 'A')"
      ],
      "metadata": {
        "colab": {
          "base_uri": "https://localhost:8080/"
        },
        "id": "3L1PElQCtWkb",
        "outputId": "1c0f923f-f8b0-47ce-b973-d60ad1f9537a"
      },
      "execution_count": 7,
      "outputs": [
        {
          "output_type": "stream",
          "name": "stdout",
          "text": [
            "A B C D E F "
          ]
        }
      ]
    },
    {
      "cell_type": "code",
      "source": [
        " def dfs(graph, start, visited=None):\n",
        "    if visited is None:\n",
        "        visited = set()\n",
        "    if start not in visited:\n",
        "        print(start, end=' ')\n",
        "        visited.add(start)\n",
        "        for neighbor in graph[start]:\n",
        "            dfs(graph, neighbor, visited)\n",
        "\n",
        "dfs(graph, 'A')"
      ],
      "metadata": {
        "colab": {
          "base_uri": "https://localhost:8080/"
        },
        "id": "08cg6W_ot1BJ",
        "outputId": "6286ddbf-d75a-4ecd-86b7-84ccbcec66ea"
      },
      "execution_count": 9,
      "outputs": [
        {
          "output_type": "stream",
          "name": "stdout",
          "text": [
            "A B D E F C "
          ]
        }
      ]
    },
    {
      "cell_type": "code",
      "source": [
        "def count_neighbors (graph) :\n",
        "    result = {}\n",
        "    for node in graph:\n",
        "        result[node] = len(graph[node])\n",
        "    return result\n",
        "\n",
        "print (count_neighbors (graph))"
      ],
      "metadata": {
        "colab": {
          "base_uri": "https://localhost:8080/"
        },
        "id": "rftPuNDuuK2L",
        "outputId": "bcdd4743-23e5-44af-9cbe-26dd8db92bdb"
      },
      "execution_count": 10,
      "outputs": [
        {
          "output_type": "stream",
          "name": "stdout",
          "text": [
            "{'A': 2, 'B': 3, 'C': 2, 'D': 1, 'E': 2, 'F': 2}\n"
          ]
        }
      ]
    }
  ]
}