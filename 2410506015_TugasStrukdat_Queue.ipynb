{
  "nbformat": 4,
  "nbformat_minor": 0,
  "metadata": {
    "colab": {
      "provenance": [],
      "authorship_tag": "ABX9TyNm4KO/0E0FvUlT/MRxhe7l",
      "include_colab_link": true
    },
    "kernelspec": {
      "name": "python3",
      "display_name": "Python 3"
    },
    "language_info": {
      "name": "python"
    }
  },
  "cells": [
    {
      "cell_type": "markdown",
      "metadata": {
        "id": "view-in-github",
        "colab_type": "text"
      },
      "source": [
        "<a href=\"https://colab.research.google.com/github/evellynliena/Praktikum_Struktur_Data/blob/master/2410506015_TugasStrukdat_Queue.ipynb\" target=\"_parent\"><img src=\"https://colab.research.google.com/assets/colab-badge.svg\" alt=\"Open In Colab\"/></a>"
      ]
    },
    {
      "cell_type": "markdown",
      "source": [
        "# **LATIHAN 1**"
      ],
      "metadata": {
        "id": "T67Pal45U6AH"
      }
    },
    {
      "cell_type": "code",
      "source": [
        "class TicketQueue:\n",
        "    def __init__(self, capacity=10):\n",
        "        self.queue = []\n",
        "        self.capacity = capacity\n",
        "\n",
        "    def is_empty(self):\n",
        "        return len(self.queue) == 0\n",
        "\n",
        "    def size(self):\n",
        "        return len(self.queue)\n",
        "\n",
        "    def enqueue(self, ticket_id):\n",
        "        if '6' in ticket_id:\n",
        "            print(f\"VIP Customer {ticket_id} langsung mendapat kursi!\")\n",
        "        elif self.size() < self.capacity:\n",
        "            self.queue.append(ticket_id)\n",
        "            print(f\"Pelanggan {ticket_id} ditambahkan ke antrian.\")\n",
        "        else:\n",
        "            print(\"Antrian penuh! Pelanggan harus menunggu.\")\n",
        "\n",
        "    def dequeue(self):\n",
        "        if self.is_empty():\n",
        "            print(\"Antrian kosong, tidak ada pelanggan untuk dilayani.\")\n",
        "        else:\n",
        "            served_customer = self.queue.pop(0)\n",
        "            print(f\"Pelanggan {served_customer} telah dilayani.\")\n",
        "\n",
        "    def front(self):\n",
        "        if self.is_empty():\n",
        "            print(\"Antrian kosong.\")\n",
        "        else:\n",
        "            print(f\"Pelanggan pertama dalam antrian: {self.queue[0]}\")\n",
        "\n",
        "    def rear(self):\n",
        "        if self.is_empty():\n",
        "            print(\"Antrian kosong.\")\n",
        "        else:\n",
        "            print(f\"Pelanggan terakhir dalam antrian: {self.queue[-1]}\")\n",
        "\n",
        "queue = TicketQueue()\n",
        "print(\"Pemesanan ticket Bioskop:\")\n",
        "queue.enqueue(\"EV15\")\n",
        "queue.enqueue(\"EL60\")\n",
        "queue.enqueue(\"LY50\")\n",
        "print(\"\\n\")\n",
        "print(\"Jalan antrian pesanan ticket Bioskop:\")\n",
        "queue.front()\n",
        "queue.rear()\n",
        "print(\"\\n\")\n",
        "print(\"Proses pesanan ticket Bioskop:\")\n",
        "queue.dequeue()\n",
        "print(\"\\n\")\n",
        "print(\"Banyak antrian saat ini:\")\n",
        "queue.size()"
      ],
      "metadata": {
        "colab": {
          "base_uri": "https://localhost:8080/"
        },
        "id": "UPrr1Op9WXqH",
        "outputId": "38ea9292-343b-4d97-9708-9e585ac65f05"
      },
      "execution_count": 26,
      "outputs": [
        {
          "output_type": "stream",
          "name": "stdout",
          "text": [
            "Pemesanan ticket Bioskop:\n",
            "Pelanggan EV15 ditambahkan ke antrian.\n",
            "VIP Customer EL60 langsung mendapat kursi!\n",
            "Pelanggan LY50 ditambahkan ke antrian.\n",
            "\n",
            "\n",
            "Jalan antrian pesanan ticket Bioskop:\n",
            "Pelanggan pertama dalam antrian: EV15\n",
            "Pelanggan terakhir dalam antrian: LY50\n",
            "\n",
            "\n",
            "Proses pesanan ticket Bioskop:\n",
            "Pelanggan EV15 telah dilayani.\n",
            "\n",
            "\n",
            "Banyak antrian saat ini:\n"
          ]
        },
        {
          "output_type": "execute_result",
          "data": {
            "text/plain": [
              "1"
            ]
          },
          "metadata": {},
          "execution_count": 26
        }
      ]
    },
    {
      "cell_type": "markdown",
      "source": [
        "# **LATIHAN 2**"
      ],
      "metadata": {
        "id": "eedkaA6oVAN9"
      }
    },
    {
      "cell_type": "code",
      "source": [
        "class PhotocopyQueue:\n",
        "    def __init__(self):\n",
        "        self.queue = []\n",
        "\n",
        "    def is_empty(self):\n",
        "        return len(self.queue) == 0\n",
        "\n",
        "    def size(self):\n",
        "        return len(self.queue)\n",
        "\n",
        "    def enqueue(self, order_id, num_pages):\n",
        "        if num_pages < 10:\n",
        "            print(f\"Pesanan {order_id} dengan {num_pages} halaman langsung diproses\")\n",
        "        else:\n",
        "            self.queue.append((order_id, num_pages))\n",
        "            print(f\"Pesanan {order_id} dengan {num_pages} halaman ditambahkan ke antrian.\")\n",
        "\n",
        "    def dequeue(self):\n",
        "        if self.is_empty():\n",
        "            print(\"Antrian kosong, tidak ada pesanan untuk diproses.\")\n",
        "        else:\n",
        "            order_id, num_pages = self.queue.pop(0)\n",
        "            if num_pages > 100:\n",
        "                remaining_pages = num_pages - 100\n",
        "                self.queue.append((order_id, remaining_pages))\n",
        "                print(f\"Pesanan {order_id} diproses 100 halaman, sisa {remaining_pages} halaman kembali ke antrian.\")\n",
        "            else:\n",
        "                print(f\"Pesanan {order_id} dengan {num_pages} halaman telah diproses.\")\n",
        "\n",
        "    def front(self):\n",
        "        if self.is_empty():\n",
        "            print(\"Antrian kosong.\")\n",
        "        else:\n",
        "            print(f\"Pesanan pertama dalam antrian: {self.queue[0]}\")\n",
        "\n",
        "    def rear(self):\n",
        "        if self.is_empty():\n",
        "            print(\"Antrian kosong.\")\n",
        "        else:\n",
        "            print(f\"Pesanan terakhir dalam antrian: {self.queue[-1]}\")\n",
        "\n",
        "queue = PhotocopyQueue()\n",
        "print(\"Pemesanan fotokopi:\")\n",
        "queue.enqueue(\"EVE15\", 5)\n",
        "queue.enqueue(\"LLY60\", 120)\n",
        "queue.enqueue(\"NLI50\", 50)\n",
        "queue.enqueue(\"ENA10\", 45)\n",
        "print(\"\\n\")\n",
        "print(\"Jalan antrian pesanan fotokopi:\")\n",
        "queue.front()\n",
        "queue.rear()\n",
        "print(\"\\n\")\n",
        "print(\"Proses pesanan fotokopi:\")\n",
        "queue.dequeue()\n",
        "print(\"\\n\")\n",
        "print(\"Banyak antrian saat ini:\")\n",
        "queue.size()"
      ],
      "metadata": {
        "colab": {
          "base_uri": "https://localhost:8080/"
        },
        "id": "n3UWwFy2YLqp",
        "outputId": "2ef0b839-cd31-46c2-987a-97ce51e2daf3"
      },
      "execution_count": null,
      "outputs": [
        {
          "output_type": "stream",
          "name": "stdout",
          "text": [
            "Pemesanan fotokopi:\n",
            "Pesanan EVE15 dengan 5 halaman langsung diproses\n",
            "Pesanan LLY60 dengan 120 halaman ditambahkan ke antrian.\n",
            "Pesanan NLI50 dengan 50 halaman ditambahkan ke antrian.\n",
            "Pesanan ENA10 dengan 45 halaman ditambahkan ke antrian.\n",
            "\n",
            "\n",
            "Jalan antrian pesanan fotokopi:\n",
            "Pesanan pertama dalam antrian: ('LLY60', 120)\n",
            "Pesanan terakhir dalam antrian: ('ENA10', 45)\n",
            "\n",
            "\n",
            "Proses pesanan fotokopi:\n",
            "Pesanan LLY60 diproses 100 halaman, sisa 20 halaman kembali ke antrian.\n",
            "\n",
            "\n",
            "Banyak antrian saat ini:\n"
          ]
        },
        {
          "output_type": "execute_result",
          "data": {
            "text/plain": [
              "3"
            ]
          },
          "metadata": {},
          "execution_count": 25
        }
      ]
    },
    {
      "cell_type": "markdown",
      "source": [
        "# **LATIHAN 3**"
      ],
      "metadata": {
        "id": "2LdiPzcMVBFj"
      }
    },
    {
      "cell_type": "code",
      "source": [
        "class ParkingQueue:\n",
        "    def __init__(self, capacity=15):\n",
        "        self.queue = []\n",
        "        self.capacity = capacity\n",
        "\n",
        "    def is_empty(self):\n",
        "        return len(self.queue) == 0\n",
        "\n",
        "    def size(self):\n",
        "        return len(self.queue)\n",
        "\n",
        "    def enqueue(self, vehicle_number, is_electric=False):\n",
        "        if is_electric:\n",
        "            self.queue.insert(0, vehicle_number)\n",
        "            print(f\"Kendaraan listrik {vehicle_number} mendapat prioritas parkir!\")\n",
        "        elif self.size() < self.capacity:\n",
        "            self.queue.append(vehicle_number)\n",
        "            print(f\"Kendaraan {vehicle_number} ditambahkan ke antrian parkir.\")\n",
        "        else:\n",
        "            print(\"Parkiran penuh! Kendaraan harus menunggu.\")\n",
        "\n",
        "    def dequeue(self):\n",
        "        if self.is_empty():\n",
        "            print(\"Parkiran kosong, tidak ada kendaraan yang keluar.\")\n",
        "        else:\n",
        "            exited_vehicle = self.queue.pop(0)\n",
        "            print(f\"Kendaraan {exited_vehicle} telah keluar dari parkiran.\")\n",
        "\n",
        "    def front(self):\n",
        "        if self.is_empty():\n",
        "            print(\"Parkiran kosong.\")\n",
        "        else:\n",
        "            print(f\"Kendaraan pertama dalam antrian: {self.queue[0]}\")\n",
        "\n",
        "    def rear(self):\n",
        "        if self.is_empty():\n",
        "            print(\"Parkiran kosong.\")\n",
        "        else:\n",
        "            print(f\"Kendaraan terakhir dalam antrian: {self.queue[-1]}\")\n",
        "\n",
        "\n",
        "queue = ParkingQueue()\n",
        "print(\"Antrian parkir Mall:\")\n",
        "queue.enqueue(\"MA15\")\n",
        "queue.enqueue(\"GE60\", is_electric=True)\n",
        "queue.enqueue(\"LA50\")\n",
        "queue.enqueue(\"NG10\")\n",
        "print(\"\\n\")\n",
        "print(\"Jalan antrian parkir Mall:\")\n",
        "queue.front()\n",
        "queue.rear()\n",
        "print(\"\\n\")\n",
        "print(\"Proses parkir Mall:\")\n",
        "queue.dequeue()\n",
        "print(\"\\n\")\n",
        "print(\"Banyak antrian saat ini:\")\n",
        "queue.size()"
      ],
      "metadata": {
        "colab": {
          "base_uri": "https://localhost:8080/"
        },
        "id": "euGoOm3GZljF",
        "outputId": "dd6b605e-461f-4147-ae65-915276c53893"
      },
      "execution_count": null,
      "outputs": [
        {
          "output_type": "stream",
          "name": "stdout",
          "text": [
            "Antrian parkir Mall:\n",
            "Kendaraan MA15 ditambahkan ke antrian parkir.\n",
            "Kendaraan listrik GE60 mendapat prioritas parkir!\n",
            "Kendaraan LA50 ditambahkan ke antrian parkir.\n",
            "Kendaraan NG10 ditambahkan ke antrian parkir.\n",
            "\n",
            "\n",
            "Jalan antrian parkir Mall:\n",
            "Kendaraan pertama dalam antrian: GE60\n",
            "Kendaraan terakhir dalam antrian: NG10\n",
            "\n",
            "\n",
            "Proses parkir Mall:\n",
            "Kendaraan GE60 telah keluar dari parkiran.\n",
            "\n",
            "\n",
            "Banyak antrian saat ini:\n"
          ]
        },
        {
          "output_type": "execute_result",
          "data": {
            "text/plain": [
              "3"
            ]
          },
          "metadata": {},
          "execution_count": 24
        }
      ]
    },
    {
      "cell_type": "markdown",
      "source": [
        "# **LATIHAN 4**"
      ],
      "metadata": {
        "id": "8XoPvMWXVBMV"
      }
    },
    {
      "cell_type": "code",
      "source": [
        "class CertificateQueue:\n",
        "    def __init__(self):\n",
        "        self.regular_queue = []\n",
        "        self.achievement_queue = []\n",
        "\n",
        "    def is_empty(self):\n",
        "        return len(self.regular_queue) == 0 and len(self.achievement_queue) == 0\n",
        "\n",
        "    def size(self):\n",
        "        return len(self.regular_queue) + len(self.achievement_queue)\n",
        "\n",
        "    def enqueue(self, student_id, is_achiever=False):\n",
        "        if is_achiever:\n",
        "            print(f\"Mahasiswa {student_id} langsung mengambil sertifikat tanpa antrian!\")\n",
        "        else:\n",
        "            if self.size() >= 20:\n",
        "                self.achievement_queue.append(student_id)\n",
        "                print(f\"Mahasiswa {student_id} masuk ke jalur mahasiswa berprestasi.\")\n",
        "            else:\n",
        "                self.regular_queue.append(student_id)\n",
        "                print(f\"Mahasiswa {student_id} masuk ke antrian reguler.\")\n",
        "\n",
        "    def dequeue(self):\n",
        "        if not self.is_empty():\n",
        "            if self.achievement_queue:\n",
        "                served_student = self.achievement_queue.pop(0)\n",
        "                print(f\"Mahasiswa {served_student} dari jalur prestasi telah mengambil sertifikat.\")\n",
        "            elif self.regular_queue:\n",
        "                served_student = self.regular_queue.pop(0)\n",
        "                print(f\"Mahasiswa {served_student} dari jalur reguler telah mengambil sertifikat.\")\n",
        "        else:\n",
        "            print(\"Antrian kosong, tidak ada mahasiswa untuk dilayani.\")\n",
        "\n",
        "    def front(self):\n",
        "        if not self.is_empty():\n",
        "            if self.achievement_queue:\n",
        "                print(f\"Mahasiswa pertama dalam antrian (jalur prestasi): {self.achievement_queue[0]}\")\n",
        "            elif self.regular_queue:\n",
        "                print(f\"Mahasiswa pertama dalam antrian (jalur reguler): {self.regular_queue[0]}\")\n",
        "        else:\n",
        "            print(\"Antrian kosong.\")\n",
        "\n",
        "    def rear(self):\n",
        "        if not self.is_empty():\n",
        "            if self.regular_queue:\n",
        "                print(f\"Mahasiswa terakhir dalam antrian: {self.regular_queue[-1]}\")\n",
        "            elif self.achievement_queue:\n",
        "                print(f\"Mahasiswa terakhir dalam antrian: {self.achievement_queue[-1]}\")\n",
        "        else:\n",
        "            print(\"Antrian kosong.\")\n",
        "\n",
        "\n",
        "queue = CertificateQueue()\n",
        "print(\"Antrian sertifikat Mahasiswa:\")\n",
        "queue.enqueue(\"TE15\")\n",
        "queue.enqueue(\"KN60\", is_achiever=True)\n",
        "queue.enqueue(\"OL50\")\n",
        "queue.enqueue(\"OG10\")\n",
        "print(\"\\n\")\n",
        "print(\"Jalan antrian sertifikat Mahasiswa:\")\n",
        "queue.front()\n",
        "queue.rear()\n",
        "print(\"\\n\")\n",
        "print(\"Proses sertifikat Mahasiswa:\")\n",
        "queue.dequeue()\n",
        "print(\"\\n\")\n",
        "print(\"Banyak antrian saat ini:\")\n",
        "queue.size()"
      ],
      "metadata": {
        "colab": {
          "base_uri": "https://localhost:8080/"
        },
        "id": "YNP4jQiya1xt",
        "outputId": "4380651a-001e-4de6-8d95-81f4cfaecf45"
      },
      "execution_count": null,
      "outputs": [
        {
          "output_type": "stream",
          "name": "stdout",
          "text": [
            "Antrian sertifikat Mahasiswa:\n",
            "Mahasiswa TE15 masuk ke antrian reguler.\n",
            "Mahasiswa KN60 langsung mengambil sertifikat tanpa antrian!\n",
            "Mahasiswa OL50 masuk ke antrian reguler.\n",
            "Mahasiswa OG10 masuk ke antrian reguler.\n",
            "\n",
            "\n",
            "Jalan antrian sertifikat Mahasiswa:\n",
            "Mahasiswa pertama dalam antrian (jalur reguler): TE15\n",
            "Mahasiswa terakhir dalam antrian: OG10\n",
            "\n",
            "\n",
            "Proses sertifikat Mahasiswa:\n",
            "Mahasiswa TE15 dari jalur reguler telah mengambil sertifikat.\n",
            "\n",
            "\n",
            "Banyak antrian saat ini:\n"
          ]
        },
        {
          "output_type": "execute_result",
          "data": {
            "text/plain": [
              "2"
            ]
          },
          "metadata": {},
          "execution_count": 23
        }
      ]
    }
  ]
}