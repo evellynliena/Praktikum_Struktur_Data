{
  "nbformat": 4,
  "nbformat_minor": 0,
  "metadata": {
    "colab": {
      "provenance": [],
      "authorship_tag": "ABX9TyNAx7SIpMaIJbjIQDzyCjLC",
      "include_colab_link": true
    },
    "kernelspec": {
      "name": "python3",
      "display_name": "Python 3"
    },
    "language_info": {
      "name": "python"
    }
  },
  "cells": [
    {
      "cell_type": "markdown",
      "metadata": {
        "id": "view-in-github",
        "colab_type": "text"
      },
      "source": [
        "<a href=\"https://colab.research.google.com/github/evellynliena/Praktikum_Struktur_Data/blob/master/2410506015_TugasStrukdat_Searching.ipynb\" target=\"_parent\"><img src=\"https://colab.research.google.com/assets/colab-badge.svg\" alt=\"Open In Colab\"/></a>"
      ]
    },
    {
      "cell_type": "code",
      "execution_count": 8,
      "metadata": {
        "colab": {
          "base_uri": "https://localhost:8080/"
        },
        "id": "qF6liupuPRnR",
        "outputId": "4dc88724-bb37-46d1-c9d1-01ef16fa90ea"
      },
      "outputs": [
        {
          "output_type": "stream",
          "name": "stdout",
          "text": [
            "\n",
            "| Algoritma Pencarian | Jumlah Perbandingan |\n",
            "|---------------------|---------------------|\n",
            "| Linear Search       | 51                  |\n",
            "| Binary Search       | 6                   |\n",
            "| Jump Search         | 6                   |\n"
          ]
        }
      ],
      "source": [
        "import random\n",
        "import math\n",
        "\n",
        "def generate_sorted_list():\n",
        "    return sorted(random.sample(range(1, 1001), 100))\n",
        "\n",
        "def linear_search(arr, target):\n",
        "    comparisons = 0\n",
        "    for i in range(len(arr)):\n",
        "        comparisons += 1\n",
        "        if arr[i] == target:\n",
        "            return i, comparisons\n",
        "    return -1, comparisons\n",
        "\n",
        "def binary_search(arr, target):\n",
        "    left, right = 0, len(arr) - 1\n",
        "    comparisons = 0\n",
        "    while left <= right:\n",
        "        mid = (left + right) // 2\n",
        "        comparisons += 1\n",
        "        if arr[mid] == target:\n",
        "            return mid, comparisons\n",
        "        elif arr[mid] < target:\n",
        "            left = mid + 1\n",
        "        else:\n",
        "            right = mid - 1\n",
        "    return -1, comparisons\n",
        "\n",
        "def jump_search(arr, target):\n",
        "    length = len(arr)\n",
        "    step = int(math.sqrt(length))\n",
        "    prev = 0\n",
        "    comparisons = 0\n",
        "\n",
        "    while prev < length and arr[min(step, length) - 1] < target:\n",
        "        comparisons += 1\n",
        "        prev = step\n",
        "        step += int(math.sqrt(length))\n",
        "        if prev >= length:\n",
        "            return -1, comparisons\n",
        "\n",
        "    for i in range(prev, min(step, length)):\n",
        "        comparisons += 1\n",
        "        if arr[i] == target:\n",
        "            return i, comparisons\n",
        "    return -1, comparisons\n",
        "\n",
        "sorted_list = generate_sorted_list()\n",
        "\n",
        "target_value = sorted_list[len(sorted_list) // 2]\n",
        "\n",
        "linear_result = linear_search(sorted_list, target_value)\n",
        "binary_result = binary_search(sorted_list, target_value)\n",
        "jump_result = jump_search(sorted_list, target_value)\n",
        "\n",
        "print(\"\\n| Algoritma Pencarian | Jumlah Perbandingan |\")\n",
        "print(\"|---------------------|---------------------|\")\n",
        "print(f\"| Linear Search       | {linear_result[1]}                  |\")\n",
        "print(f\"| Binary Search       | {binary_result[1]}                   |\")\n",
        "print(f\"| Jump Search         | {jump_result[1]}                   |\")\n"
      ]
    }
  ]
}