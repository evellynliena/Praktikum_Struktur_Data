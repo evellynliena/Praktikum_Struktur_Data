{
  "nbformat": 4,
  "nbformat_minor": 0,
  "metadata": {
    "colab": {
      "provenance": [],
      "authorship_tag": "ABX9TyOI6QqwHqFHSroDngkVMM7Q",
      "include_colab_link": true
    },
    "kernelspec": {
      "name": "python3",
      "display_name": "Python 3"
    },
    "language_info": {
      "name": "python"
    }
  },
  "cells": [
    {
      "cell_type": "markdown",
      "metadata": {
        "id": "view-in-github",
        "colab_type": "text"
      },
      "source": [
        "<a href=\"https://colab.research.google.com/github/evellynliena/Praktikum_Struktur_Data/blob/master/2410506015_TugasStrukdat_Sorting.ipynb\" target=\"_parent\"><img src=\"https://colab.research.google.com/assets/colab-badge.svg\" alt=\"Open In Colab\"/></a>"
      ]
    },
    {
      "cell_type": "markdown",
      "source": [
        "**Pakai Quick Sort**"
      ],
      "metadata": {
        "id": "0J46xruZYOTi"
      }
    },
    {
      "cell_type": "code",
      "source": [
        "class Customer:\n",
        "    def __init__(self, name, age, total_spent):\n",
        "        self.name = name\n",
        "        self.age = age\n",
        "        self.total_spent = total_spent\n",
        "\n",
        "    def __str__(self):\n",
        "        return f\"{self.name} - Umur: {self.age}, Total Belanja: {self.total_spent}\"\n",
        "\n",
        "def quick_sort(customers, key):\n",
        "    if len(customers) <= 1:\n",
        "        return customers\n",
        "\n",
        "    pivot = customers[len(customers) // 2]\n",
        "    left = [x for x in customers if getattr(x, key) < getattr(pivot, key)]\n",
        "    middle = [x for x in customers if getattr(x, key) == getattr(pivot, key)]\n",
        "    right = [x for x in customers if getattr(x, key) > getattr(pivot, key)]\n",
        "\n",
        "    return quick_sort(left, key) + middle + quick_sort(right, key)\n",
        "\n",
        "def input_customers():\n",
        "    customers = []\n",
        "    n = int(input(\"Masukkan jumlah pelanggan: \"))\n",
        "    for _ in range(n):\n",
        "        name = input(\"Masukkan nama pelanggan: \")\n",
        "        age = int(input(\"Masukkan umur pelanggan: \"))\n",
        "        total_spent = float(input(\"Masukkan total belanja pelanggan: \"))\n",
        "        customers.append(Customer(name, age, total_spent))\n",
        "    return customers\n",
        "\n",
        "customers = input_customers()\n",
        "\n",
        "while True:\n",
        "    print(\"\\nPilih metode pengurutan:\")\n",
        "    print(\"1. Nama (A-Z)\")\n",
        "    print(\"2. Umur (kecil ke besar)\")\n",
        "    print(\"3. Total Belanja (kecil ke besar)\")\n",
        "    print(\"4. Keluar\")\n",
        "\n",
        "    choice = int(input(\"Masukkan pilihan (1/2/3/4): \"))\n",
        "    if choice == 1:\n",
        "        sorted_customers = quick_sort(customers, 'name')\n",
        "    elif choice == 2:\n",
        "        sorted_customers = quick_sort(customers, 'age')\n",
        "    elif choice == 3:\n",
        "        sorted_customers = quick_sort(customers, 'total_spent')\n",
        "    elif choice == 4:\n",
        "        print(\"Terima kasih!\")\n",
        "        break\n",
        "    else:\n",
        "        print(\"Pilihan tidak valid.\")\n",
        "        continue\n",
        "\n",
        "    print(\"\\nData pelanggan setelah diurutkan:\")\n",
        "    for customer in sorted_customers:\n",
        "        print(customer)"
      ],
      "metadata": {
        "colab": {
          "base_uri": "https://localhost:8080/"
        },
        "id": "2pRABTimZeuG",
        "outputId": "c47351d0-73f2-419e-a6ac-972c4e5577a6"
      },
      "execution_count": 4,
      "outputs": [
        {
          "output_type": "stream",
          "name": "stdout",
          "text": [
            "Masukkan jumlah pelanggan: 5\n",
            "Masukkan nama pelanggan: Rosa\n",
            "Masukkan umur pelanggan: 18\n",
            "Masukkan total belanja pelanggan: 60000\n",
            "Masukkan nama pelanggan: Lilium\n",
            "Masukkan umur pelanggan: 24\n",
            "Masukkan total belanja pelanggan: 45000\n",
            "Masukkan nama pelanggan: Hibiscus\n",
            "Masukkan umur pelanggan: 16\n",
            "Masukkan total belanja pelanggan: 23000\n",
            "Masukkan nama pelanggan: Helianthus\n",
            "Masukkan umur pelanggan: 31\n",
            "Masukkan total belanja pelanggan: 10000\n",
            "Masukkan nama pelanggan: Tagetes\n",
            "Masukkan umur pelanggan: 21\n",
            "Masukkan total belanja pelanggan: 150000\n",
            "\n",
            "Pilih metode pengurutan:\n",
            "1. Nama (A-Z)\n",
            "2. Umur (kecil ke besar)\n",
            "3. Total Belanja (kecil ke besar)\n",
            "4. Keluar\n",
            "Masukkan pilihan (1/2/3/4): 1\n",
            "\n",
            "Data pelanggan setelah diurutkan:\n",
            "Helianthus - Umur: 31, Total Belanja: 10000.0\n",
            "Hibiscus - Umur: 16, Total Belanja: 23000.0\n",
            "Lilium - Umur: 24, Total Belanja: 45000.0\n",
            "Rosa - Umur: 18, Total Belanja: 60000.0\n",
            "Tagetes - Umur: 21, Total Belanja: 150000.0\n",
            "\n",
            "Pilih metode pengurutan:\n",
            "1. Nama (A-Z)\n",
            "2. Umur (kecil ke besar)\n",
            "3. Total Belanja (kecil ke besar)\n",
            "4. Keluar\n",
            "Masukkan pilihan (1/2/3/4): 2\n",
            "\n",
            "Data pelanggan setelah diurutkan:\n",
            "Hibiscus - Umur: 16, Total Belanja: 23000.0\n",
            "Rosa - Umur: 18, Total Belanja: 60000.0\n",
            "Tagetes - Umur: 21, Total Belanja: 150000.0\n",
            "Lilium - Umur: 24, Total Belanja: 45000.0\n",
            "Helianthus - Umur: 31, Total Belanja: 10000.0\n",
            "\n",
            "Pilih metode pengurutan:\n",
            "1. Nama (A-Z)\n",
            "2. Umur (kecil ke besar)\n",
            "3. Total Belanja (kecil ke besar)\n",
            "4. Keluar\n",
            "Masukkan pilihan (1/2/3/4): 3\n",
            "\n",
            "Data pelanggan setelah diurutkan:\n",
            "Helianthus - Umur: 31, Total Belanja: 10000.0\n",
            "Hibiscus - Umur: 16, Total Belanja: 23000.0\n",
            "Lilium - Umur: 24, Total Belanja: 45000.0\n",
            "Rosa - Umur: 18, Total Belanja: 60000.0\n",
            "Tagetes - Umur: 21, Total Belanja: 150000.0\n",
            "\n",
            "Pilih metode pengurutan:\n",
            "1. Nama (A-Z)\n",
            "2. Umur (kecil ke besar)\n",
            "3. Total Belanja (kecil ke besar)\n",
            "4. Keluar\n",
            "Masukkan pilihan (1/2/3/4): 4\n",
            "Terima kasih!\n"
          ]
        }
      ]
    }
  ]
}