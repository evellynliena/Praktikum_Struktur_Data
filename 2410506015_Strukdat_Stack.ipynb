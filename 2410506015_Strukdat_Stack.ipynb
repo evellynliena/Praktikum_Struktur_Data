{
  "nbformat": 4,
  "nbformat_minor": 0,
  "metadata": {
    "colab": {
      "provenance": [],
      "authorship_tag": "ABX9TyOwSmzoIpQEaPJsX/fZ4Zm9",
      "include_colab_link": true
    },
    "kernelspec": {
      "name": "python3",
      "display_name": "Python 3"
    },
    "language_info": {
      "name": "python"
    }
  },
  "cells": [
    {
      "cell_type": "markdown",
      "metadata": {
        "id": "view-in-github",
        "colab_type": "text"
      },
      "source": [
        "<a href=\"https://colab.research.google.com/github/evellynliena/Praktikum_Struktur_Data/blob/master/2410506015_Strukdat_Stack.ipynb\" target=\"_parent\"><img src=\"https://colab.research.google.com/assets/colab-badge.svg\" alt=\"Open In Colab\"/></a>"
      ]
    },
    {
      "cell_type": "markdown",
      "source": [
        "# **Latihan 1**"
      ],
      "metadata": {
        "id": "R6ecS4TTLryL"
      }
    },
    {
      "cell_type": "code",
      "execution_count": null,
      "metadata": {
        "colab": {
          "base_uri": "https://localhost:8080/"
        },
        "id": "eV5Bjt3YLP3P",
        "outputId": "08f2ff94-cffa-4586-bfa6-5cd8454a6cdc"
      },
      "outputs": [
        {
          "output_type": "stream",
          "name": "stdout",
          "text": [
            "Undo: Menghapus'Ini teks ketiga'\n",
            "Undo: Menghapus'Ini teks kedua'\n"
          ]
        }
      ],
      "source": [
        "class TextEditor:\n",
        "    def __init__(self):\n",
        "        self.history = []\n",
        "\n",
        "    def write(self, text):\n",
        "        self.history.append(text)\n",
        "\n",
        "    def undo(self):\n",
        "        if self.history:\n",
        "          return f\"Undo: Menghapus'{self.history.pop()}'\"\n",
        "        return \"Tidak ada yang bisa di-undo\"\n",
        "\n",
        "editor= TextEditor()\n",
        "editor.write(\"Halo, ini teks pertama.\")\n",
        "editor.write(\"Ini teks kedua\")\n",
        "editor.write(\"Ini teks ketiga\")\n",
        "\n",
        "print(editor.undo())\n",
        "print(editor.undo())"
      ]
    },
    {
      "cell_type": "code",
      "source": [
        "class UndoCalculator:\n",
        "    def __init__(self, initial_value):\n",
        "        self.history = [initial_value]\n",
        "\n",
        "    def add(self, value):\n",
        "        self.history.append(self.history[-1] + value)\n",
        "\n",
        "    def subtract(self, value):\n",
        "        self.history.append(self.history[-1] - value)\n",
        "\n",
        "    def multiply(self, value):\n",
        "        self.history.append(self.history[-1] * value)\n",
        "\n",
        "    def divide(self, value):\n",
        "        if value != 0:\n",
        "            self.history.append(self.history[-1] / value)\n",
        "        else:\n",
        "            print(\"Error: Pembagian nol tidak diperolehkan.\")\n",
        "\n",
        "    def undo(self):\n",
        "        if len(self.history) > 1:\n",
        "            removed = self.history.pop()\n",
        "            return f\"Undo: Menghapus hasil '{removed}'\"\n",
        "        return \"Tidak ada yang bisa di-undo\"\n",
        "\n",
        "    def get_result(self):\n",
        "        return self.history[-1]\n",
        "\n",
        "npm = int(input(\"Masukkan 2 nomor terakhir npm:\"))\n",
        "calc = UndoCalculator(npm)\n",
        "\n",
        "calc.multiply(2)\n",
        "calc.subtract(5)\n",
        "calc.add(10)\n",
        "\n",
        "print(\"\\n\")\n",
        "print(\"Operasi kalkulator:\")\n",
        "print(\"\\n\")\n",
        "print(npm, \" x 2 : 5 + 10\")\n",
        "\n",
        "print(\"\\n\")\n",
        "print(calc.undo())\n",
        "print(calc.undo())\n",
        "print(\"\\n\")\n",
        "print(\"Hasil setelah Undo:\", calc.get_result())"
      ],
      "metadata": {
        "colab": {
          "base_uri": "https://localhost:8080/"
        },
        "id": "BIPO2ERqOEEr",
        "outputId": "8adf6fb1-b803-4c5d-c632-5fbcafa86653"
      },
      "execution_count": null,
      "outputs": [
        {
          "output_type": "stream",
          "name": "stdout",
          "text": [
            "Masukkan 2 nomor terakhir npm:15\n",
            "\n",
            "\n",
            "Operasi kalkulator:\n",
            "\n",
            "\n",
            "15  x 2 : 5 + 10\n",
            "\n",
            "\n",
            "Undo: Menghapus hasil '35'\n",
            "Undo: Menghapus hasil '25'\n",
            "\n",
            "\n",
            "Hasil setelah Undo: 30\n"
          ]
        }
      ]
    },
    {
      "cell_type": "markdown",
      "source": [
        "# **Latihan 2**"
      ],
      "metadata": {
        "id": "1cLFDyGUOpaR"
      }
    },
    {
      "cell_type": "code",
      "source": [
        "from collections import deque\n",
        "\n",
        "class BrowserHistory:\n",
        "    def __init__(self):\n",
        "        self.history = deque()\n",
        "\n",
        "    def visit(self, url):\n",
        "        self.history.append(url)\n",
        "        print(f\"Mengunjungi: {url}\")\n",
        "\n",
        "    def back(self):\n",
        "        if self.history:\n",
        "            print(f\"Kembali ke: {self.history.pop()}\")\n",
        "        else:\n",
        "            print(\"Tidak ada riwayat!\")\n",
        "\n",
        "browser= BrowserHistory()\n",
        "browser.visit(\"google.com\")\n",
        "browser.visit(\"youtube.com\")\n",
        "browser.visit(\"github.com\")\n",
        "browser.back()\n",
        "browser.back()"
      ],
      "metadata": {
        "colab": {
          "base_uri": "https://localhost:8080/"
        },
        "id": "gzumrceROsQ4",
        "outputId": "19b349ac-35eb-48d1-edd0-9b323a3f3cfa"
      },
      "execution_count": null,
      "outputs": [
        {
          "output_type": "stream",
          "name": "stdout",
          "text": [
            "Mengunjungi: google.com\n",
            "Mengunjungi: youtube.com\n",
            "Mengunjungi: github.com\n",
            "Kembali ke: github.com\n",
            "Kembali ke: youtube.com\n"
          ]
        }
      ]
    },
    {
      "cell_type": "code",
      "source": [
        "class NavigationHistory:\n",
        "    def __init__(self):\n",
        "        self.history = []\n",
        "\n",
        "    def visit(self, feature_name):\n",
        "        self.history.append(feature_name)\n",
        "        print(f\"Mengunjungi: {feature_name}\")\n",
        "\n",
        "    def back(self):\n",
        "        if len(self.history) > 1:\n",
        "            removed = self.history.pop()\n",
        "            print(f\"Kembali dari fitur: {removed}\")\n",
        "        else:\n",
        "            print(\"Tidak bisa kembali, sudah di awal riwayat.\")\n",
        "\n",
        "    def show_history(self):\n",
        "        print(\"Riwayat kunjungan:\", \" > \".join(self.history))\n",
        "\n",
        "feature1 = \"S15-Home\"\n",
        "feature2 = \"S15-Profile\"\n",
        "feature3 = \"S15-Settings\"\n",
        "\n",
        "nav = NavigationHistory()\n",
        "nav.visit(feature1)\n",
        "nav.visit(feature2)\n",
        "nav.visit(feature3)\n",
        "\n",
        "print(\"\\n\")\n",
        "nav.show_history()\n",
        "print(\"\\n\")\n",
        "nav.back()\n",
        "print(\"\\n\")\n",
        "nav.show_history()\n"
      ],
      "metadata": {
        "colab": {
          "base_uri": "https://localhost:8080/"
        },
        "id": "YsF8wbGOSZP8",
        "outputId": "0c28d8ce-518d-426e-9824-2268ec2acff4"
      },
      "execution_count": null,
      "outputs": [
        {
          "output_type": "stream",
          "name": "stdout",
          "text": [
            "Mengunjungi: S15-Home\n",
            "Mengunjungi: S15-Profile\n",
            "Mengunjungi: S15-Settings\n",
            "\n",
            "\n",
            "Riwayat kunjungan: S15-Home > S15-Profile > S15-Settings\n",
            "\n",
            "\n",
            "Kembali dari fitur: S15-Settings\n",
            "\n",
            "\n",
            "Riwayat kunjungan: S15-Home > S15-Profile\n"
          ]
        }
      ]
    },
    {
      "cell_type": "markdown",
      "source": [
        "# **Latihan 3**"
      ],
      "metadata": {
        "id": "QLMzi1s7WdSX"
      }
    },
    {
      "cell_type": "code",
      "source": [
        "from queue import LifoQueue\n",
        "\n",
        "class BackupSystem:\n",
        "    def __init__(self):\n",
        "        self.backups = LifoQueue()\n",
        "\n",
        "    def backup(self, data):\n",
        "        self.backups.put(data)\n",
        "\n",
        "    def latest_backup(self):\n",
        "        if not self.backups.empty():\n",
        "            return f\"Versi terbaru: {self.backups.queue[-1]}\"\n",
        "        return \"Tidak ada cadangan!\"\n",
        "\n",
        "backup_system = BackupSystem()\n",
        "backup_system.backup(\"Backup_1\")\n",
        "backup_system.backup(\"Backup_2\")\n",
        "backup_system.backup(\"Backup_3\")\n",
        "\n",
        "print(backup_system.latest_backup())"
      ],
      "metadata": {
        "colab": {
          "base_uri": "https://localhost:8080/"
        },
        "id": "8g2T4VIHWfgW",
        "outputId": "48c1c438-faca-4df5-8697-423c43c6fa37"
      },
      "execution_count": null,
      "outputs": [
        {
          "output_type": "stream",
          "name": "stdout",
          "text": [
            "Versi terbaru: Backup_3\n"
          ]
        }
      ]
    },
    {
      "cell_type": "code",
      "source": [
        "class draftSystem:\n",
        "    def __init__(self):\n",
        "        self.drafts = []\n",
        "\n",
        "    def save_draft(self, subject, content):\n",
        "        self.drafts.append((subject, content))\n",
        "        print(f\"Draft disimpan: {subject}\")\n",
        "\n",
        "    def latest_draft(self):\n",
        "        if self.drafts:\n",
        "            subject, content = self.drafts[-1]\n",
        "            return f\"Draft Terakhir: \\nSubjek: {subject}\\nIsi: {content}\"\n",
        "        else:\n",
        "            return \"Tidak ada draft email.\"\n",
        "\n",
        "subject1 = \"E15 - Draft1\"\n",
        "subject2 = \"E15 - Draft2\"\n",
        "subject3 = \"E15 - Draft3\"\n",
        "\n",
        "draft_system = draftSystem()\n",
        "draft_system.save_draft(subject1, \"Isi Draft 1\")\n",
        "draft_system.save_draft(subject2, \"Isi Draft 2\")\n",
        "draft_system.save_draft(subject3, \"Isi Draft 3\")\n",
        "print(\"\\n\")\n",
        "\n",
        "print(draft_system.latest_draft())"
      ],
      "metadata": {
        "colab": {
          "base_uri": "https://localhost:8080/"
        },
        "id": "7yzvh7aAZ-CV",
        "outputId": "d9b8db9d-2192-41c4-a685-44a838cba222"
      },
      "execution_count": null,
      "outputs": [
        {
          "output_type": "stream",
          "name": "stdout",
          "text": [
            "Draft disimpan: E15 - Draft1\n",
            "Draft disimpan: E15 - Draft2\n",
            "Draft disimpan: E15 - Draft3\n",
            "\n",
            "\n",
            "Draft Terakhir: \n",
            "Subjek: E15 - Draft3\n",
            "Isi: Isi Draft 3\n"
          ]
        }
      ]
    },
    {
      "cell_type": "markdown",
      "source": [
        "# **Latihan 4**"
      ],
      "metadata": {
        "id": "bv09c56TcknQ"
      }
    },
    {
      "cell_type": "code",
      "source": [
        "class CustomerService:\n",
        "    def __init__(self):\n",
        "        self.tickets = []\n",
        "\n",
        "    def add_ticket(self, ticket):\n",
        "        self.tickets.append(ticket)\n",
        "\n",
        "    def process_ticket(self):\n",
        "        if not self.is_empty():\n",
        "            return f\"Memproses ticket: {self.tickets.pop()}\"\n",
        "        return \"Tidak ada ticket yang harus diproses.\"\n",
        "\n",
        "    def is_empty(self):\n",
        "        return len(self.tickets) == 0\n",
        "\n",
        "service = CustomerService()\n",
        "service.add_ticket(\"Tiket 001\")\n",
        "service.add_ticket(\"Tiket 002\")\n",
        "\n",
        "print(service.process_ticket())\n",
        "print(service.is_empty())"
      ],
      "metadata": {
        "id": "YybXt5XacnXi",
        "colab": {
          "base_uri": "https://localhost:8080/"
        },
        "outputId": "eaa4fd6c-c94b-4c15-c33c-afff2c8646b0"
      },
      "execution_count": null,
      "outputs": [
        {
          "output_type": "stream",
          "name": "stdout",
          "text": [
            "Memproses ticket: Tiket 002\n",
            "False\n"
          ]
        }
      ]
    },
    {
      "cell_type": "code",
      "source": [
        "class TicketQueue:\n",
        "    def __init__(self):\n",
        "        self.tickets = []\n",
        "        self.ticket_count = 0\n",
        "\n",
        "    def buy_ticket(self, movie_name):\n",
        "        self.ticket_count += 1\n",
        "        ticket_number = f\"{self.ticket_count:03}\"\n",
        "        self.tickets.append((ticket_number, movie_name))\n",
        "        print(f\"Tiket {ticket_number} untuk '{movie_name}' telah dibeli.\")\n",
        "\n",
        "    def process_ticket(self):\n",
        "        if self.tickets:\n",
        "            ticket_number, movie_name = self.tickets.pop()\n",
        "            print(f\"Tiket {ticket_number} untuk '{movie_name}' sedang diproses.\")\n",
        "        else:\n",
        "            print(\"Tidak ada tiket yang bisa diproses.\")\n",
        "\n",
        "    def show_tickets(self):\n",
        "        if self.tickets:\n",
        "            print(\"Tiket yang tersisa:\")\n",
        "            for ticket_number, movie_name in self.tickets:\n",
        "                print(f\"- {movie_name}-{ticket_number}\")\n",
        "        else:\n",
        "            print(\"Tidak ada tiket yang tersisa.\")\n",
        "\n",
        "ticket = f\"S15\"\n",
        "\n",
        "queue = TicketQueue()\n",
        "queue.buy_ticket(ticket)\n",
        "queue.buy_ticket(ticket)\n",
        "queue.buy_ticket(ticket)\n",
        "print(\"\\n\")\n",
        "queue.process_ticket()\n",
        "print(\"\\n\")\n",
        "queue.show_tickets()"
      ],
      "metadata": {
        "colab": {
          "base_uri": "https://localhost:8080/"
        },
        "id": "j_CSELifkvOu",
        "outputId": "2cde88ac-125c-4d97-dd9e-709316cf1be3"
      },
      "execution_count": null,
      "outputs": [
        {
          "output_type": "stream",
          "name": "stdout",
          "text": [
            "Tiket 001 untuk 'S15' telah dibeli.\n",
            "Tiket 002 untuk 'S15' telah dibeli.\n",
            "Tiket 003 untuk 'S15' telah dibeli.\n",
            "\n",
            "\n",
            "Tiket 003 untuk 'S15' sedang diproses.\n",
            "\n",
            "\n",
            "Tiket yang tersisa:\n",
            "- S15-001\n",
            "- S15-002\n"
          ]
        }
      ]
    }
  ]
}