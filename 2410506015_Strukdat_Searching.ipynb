{
  "nbformat": 4,
  "nbformat_minor": 0,
  "metadata": {
    "colab": {
      "provenance": [],
      "authorship_tag": "ABX9TyP+72okJ3GELvxU2gteYy1W",
      "include_colab_link": true
    },
    "kernelspec": {
      "name": "python3",
      "display_name": "Python 3"
    },
    "language_info": {
      "name": "python"
    }
  },
  "cells": [
    {
      "cell_type": "markdown",
      "metadata": {
        "id": "view-in-github",
        "colab_type": "text"
      },
      "source": [
        "<a href=\"https://colab.research.google.com/github/evellynliena/Praktikum_Struktur_Data/blob/master/2410506015_Strukdat_Searching.ipynb\" target=\"_parent\"><img src=\"https://colab.research.google.com/assets/colab-badge.svg\" alt=\"Open In Colab\"/></a>"
      ]
    },
    {
      "cell_type": "code",
      "execution_count": 2,
      "metadata": {
        "colab": {
          "base_uri": "https://localhost:8080/"
        },
        "id": "zAVDbBM9PQn4",
        "outputId": "652b7679-de10-4632-f495-038198667319"
      },
      "outputs": [
        {
          "output_type": "stream",
          "name": "stdout",
          "text": [
            "Masukkan 3 digit terakhir NPM Anda: 15\n",
            "Elemen ditemukan pada indeks 10\n"
          ]
        }
      ],
      "source": [
        "def linear_search(arr, target):\n",
        "    for i in range(len(arr)):\n",
        "        if arr[i] == target:\n",
        "            return i\n",
        "    return -1\n",
        "\n",
        "arr = [12, 45, 78, 23, 56, 89, 34, 67, 90, 11, 15]\n",
        "target = int(input(\"Masukkan 3 digit terakhir NPM Anda: \"))\n",
        "result = linear_search(arr, target)\n",
        "if result != -1:\n",
        "    print(\"Elemen ditemukan pada indeks\", result)\n",
        "else:\n",
        "    print(\"Elemen tidak ditemukan\")\n"
      ]
    },
    {
      "cell_type": "code",
      "source": [
        "def binary_search(arr, target):\n",
        "    low = 0\n",
        "    high = len(arr) - 1\n",
        "\n",
        "    while low <= high:\n",
        "        mid = (low + high) // 2\n",
        "        if arr[mid] == target:\n",
        "            return mid\n",
        "        elif arr[mid] < target:\n",
        "            low = mid + 1\n",
        "        else:\n",
        "            high = mid - 1\n",
        "    return -1\n",
        "\n",
        "arr = [1010, 1109, 1202, 1405, 1707, 2508, 3009, 3011, 2412]\n",
        "target = int (input(\"Masukkan tanggal lahir Anda (DDMM): \"))\n",
        "result = binary_search(arr, target)\n",
        "if result != -1:\n",
        "    print(\"Elemen ditemukan pada indeks\", result)\n",
        "else:\n",
        "    print(\"Elemen tidak ditemukan\")\n"
      ],
      "metadata": {
        "colab": {
          "base_uri": "https://localhost:8080/"
        },
        "id": "fAlIHebdPwvI",
        "outputId": "b76484be-96ab-467a-f75b-36d2de657b3c"
      },
      "execution_count": 8,
      "outputs": [
        {
          "output_type": "stream",
          "name": "stdout",
          "text": [
            "Masukkan tanggal lahir Anda (DDMM): 1109\n",
            "Elemen ditemukan pada indeks 1\n"
          ]
        }
      ]
    },
    {
      "cell_type": "code",
      "source": [
        "import math\n",
        "\n",
        "def jump_search(arr, target):\n",
        "    n = len(arr)\n",
        "    step = int(math.sqrt(n))\n",
        "    prev = 0\n",
        "    while arr[min(step, n) - 1] < target:\n",
        "        prev = step\n",
        "        step += int(math.sqrt(n))\n",
        "        if prev >= n:\n",
        "            return -1\n",
        "    for i in range(prev, min(step, n)):\n",
        "        if arr[i] == target:\n",
        "            return i\n",
        "    return -1\n",
        "\n",
        "arr = [\"Aldo\", \"Budi\", \"Cinta\", \"Dewi\", \"Fajar\", \"Gita\", \"Indra\", \"Rina\", \"Tono\"]\n",
        "target = input(\"Masukkan inisial nama Anda: \")\n",
        "result = jump_search(arr, target)\n",
        "\n",
        "if result != -1:\n",
        "    print(\"Elemen ditemukan pada indeks\", result)\n",
        "else:\n",
        "    print(\"Elemen tidak ditemukan\")\n"
      ],
      "metadata": {
        "colab": {
          "base_uri": "https://localhost:8080/"
        },
        "id": "SR_CP2SGQ261",
        "outputId": "feaa0af4-3ef2-44e4-f8cf-7b75adecfcce"
      },
      "execution_count": 9,
      "outputs": [
        {
          "output_type": "stream",
          "name": "stdout",
          "text": [
            "Masukkan inisial nama Anda: Cinta\n",
            "Elemen ditemukan pada indeks 2\n"
          ]
        }
      ]
    }
  ]
}