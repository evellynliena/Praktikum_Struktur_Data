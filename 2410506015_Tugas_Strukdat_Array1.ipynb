{
  "nbformat": 4,
  "nbformat_minor": 0,
  "metadata": {
    "colab": {
      "provenance": [],
      "authorship_tag": "ABX9TyPXixVsnx+joQcbuv4+R8id",
      "include_colab_link": true
    },
    "kernelspec": {
      "name": "python3",
      "display_name": "Python 3"
    },
    "language_info": {
      "name": "python"
    }
  },
  "cells": [
    {
      "cell_type": "markdown",
      "metadata": {
        "id": "view-in-github",
        "colab_type": "text"
      },
      "source": [
        "<a href=\"https://colab.research.google.com/github/evellynliena/Praktikum_Struktur_Data/blob/master/2410506015_Tugas_Strukdat_Array1.ipynb\" target=\"_parent\"><img src=\"https://colab.research.google.com/assets/colab-badge.svg\" alt=\"Open In Colab\"/></a>"
      ]
    },
    {
      "cell_type": "code",
      "execution_count": null,
      "metadata": {
        "colab": {
          "base_uri": "https://localhost:8080/"
        },
        "id": "JJQv-LeHapno",
        "outputId": "adca6d56-1c15-43d2-ea2f-4ecbaa4c66c8"
      },
      "outputs": [
        {
          "output_type": "stream",
          "name": "stdout",
          "text": [
            "Selamat datang di Treasure Hunt! Peta memiliki 10 lokasi (0 hingga 9).\n",
            "Masukkan lokasi harta karun (0-9): 4\n",
            "\n",
            "Harta karun telah disembunyikan! Sekarang giliran pemain menebak.\n",
            "Cobalah untuk menemukan harta karun dengan menebak indeks yang benar.\n",
            "\n",
            "Peta saat ini:  ['_', '_', '_', '_', '_', '_', '_', '_', '_', '_']\n",
            "Masukkan indeks tebakanmu (0-9): 6\n",
            "X Tidak ada harta di lokasi ini. Coba lagi!\n",
            "\n",
            "Peta saat ini:  ['_', '_', '_', '_', '_', '_', '_', '_', '_', '_']\n",
            "Masukkan indeks tebakanmu (0-9): r\n",
            "Masukkan angka yang valid!\n",
            "\n",
            "Peta saat ini:  ['_', '_', '_', '_', '_', '_', '_', '_', '_', '_']\n",
            "Masukkan indeks tebakanmu (0-9): 4\n",
            "Selamat! Kamu menemukan harta karun di lokasi: 4\n",
            "Terima kasih sudah bermain!\n"
          ]
        }
      ],
      "source": [
        "#Ukuran peta\n",
        "size = 10\n",
        "\n",
        "#Membuat peta dengan harta karun tersembunyi\n",
        "treasure_map=[\"_\" for _ in range(size)]\n",
        "\n",
        "#Tentukan lokasi harta karun secara manual\n",
        "\n",
        "print(f\"Selamat datang di Treasure Hunt! Peta memiliki {size} lokasi (0 hingga {size-1}).\")\n",
        "treasure_index = int(input(f\"Masukkan lokasi harta karun (0-{size-1}): \"))\n",
        "while treasure_index < 0 or treasure_index >= size:\n",
        "    print(\"Lokasi tidak valid. Masukkan angka dalam rentang yang benar.\")\n",
        "    treasure_index=int(input(f\"Masukkan lokasi harta karun (0-{size-1}: \"))\n",
        "\n",
        "treasure_map[treasure_index]= \"X\" #Menyembunyikan harta karun di lokasi yang dipilih\n",
        "\n",
        "#Fungsi untuk memulai permainan\n",
        "def play_treasure_hunt():\n",
        "    print (\"\\nHarta karun telah disembunyikan! Sekarang giliran pemain menebak.\")\n",
        "    print (\"Cobalah untuk menemukan harta karun dengan menebak indeks yang benar.\")\n",
        "\n",
        "    #Loop permainan\n",
        "    while True:\n",
        "        #Menampilkan peta tersembunyi kepada pemain\n",
        "        print(\"\\nPeta saat ini: \", [\"_\" for _ in range(size)]) #Peta tersembunyi\n",
        "\n",
        "        #Input pemain\n",
        "        try:\n",
        "            guess =int(input(f\"Masukkan indeks tebakanmu (0-{size-1}): \"))\n",
        "        except ValueError:\n",
        "            print(\"Masukkan angka yang valid!\")\n",
        "            continue\n",
        "\n",
        "        #Validasi input\n",
        "        if guess < 0 or guess >= size:\n",
        "            print(\"Indeks tidak valid, pilih antara 0 hingga\", size-1)\n",
        "            continue\n",
        "\n",
        "        #Mengecek apakah tebakan benar\n",
        "        if treasure_map[guess] == \"X\":\n",
        "          print(\"Selamat! Kamu menemukan harta karun di lokasi:\", guess)\n",
        "          break\n",
        "        else:\n",
        "          print(\"X Tidak ada harta di lokasi ini. Coba lagi!\")\n",
        "\n",
        "    print (\"Terima kasih sudah bermain!\")\n",
        "\n",
        "#Jalankan permainan\n",
        "play_treasure_hunt()"
      ]
    },
    {
      "cell_type": "markdown",
      "source": [
        "# **Modifikasi Treasure Hunt**"
      ],
      "metadata": {
        "id": "4prXT8GVfKg8"
      }
    },
    {
      "cell_type": "code",
      "source": [
        "import random\n",
        "\n",
        "# Ukuran peta\n",
        "size = int(input(\"Masukkan ukuran peta: \"))\n",
        "\n",
        "# Membuat peta kosong\n",
        "treasure_map = [\"_\" for _ in range(size)]\n",
        "\n",
        "# Pilih lokasi harta karun secara acak\n",
        "treasure_index = random.randint(0, size - 1)\n",
        "\n",
        "print(f\"\\nSelamat datang di Treasure Hunt! Peta memiliki {size} lokasi (0 hingga {size-1}).\")\n",
        "print(\"Harta karun telah disembunyikan secara acak!\")\n",
        "\n",
        "# Fungsi untuk memulai permainan\n",
        "def play_treasure_hunt():\n",
        "    print(\"\\nCobalah untuk menemukan harta karun dengan menebak indeks yang benar.\")\n",
        "\n",
        "    # Inisialisasi peta tebakan\n",
        "    hidden_map = [\"_\" for _ in range(size)]\n",
        "\n",
        "    # Loop permainan\n",
        "    while True:\n",
        "        # Menampilkan peta dengan tebakan yang sudah dilakukan\n",
        "        print(\"\\nPeta saat ini: \", \" \".join(hidden_map))\n",
        "\n",
        "        # Input pemain\n",
        "        try:\n",
        "            guess = int(input(f\"Masukkan indeks tebakanmu (0-{size-1}): \"))\n",
        "        except ValueError:\n",
        "            print(\"Masukkan angka yang valid!\")\n",
        "            continue\n",
        "\n",
        "        # Validasi input\n",
        "        if guess < 0 or guess >= size:\n",
        "            print(f\"Indeks tidak valid, pilih antara 0 hingga {size-1}.\")\n",
        "            continue\n",
        "\n",
        "        # Mengecek apakah tebakan benar\n",
        "        if guess == treasure_index:\n",
        "            print(f\"🎉 Selamat! Kamu menemukan harta karun di lokasi: {guess} 🎉\")\n",
        "            break\n",
        "        else:\n",
        "            print(\"❌ Tidak ada harta di lokasi ini. Coba lagi!\")\n",
        "            hidden_map[guess] = \"O\"  # Tandai tebakan yang salah\n",
        "\n",
        "    print(\"\\nTerima kasih sudah bermain!6\n",
        "    \")\n",
        "\n",
        "# Jalankan permainan\n",
        "play_treasure_hunt()"
      ],
      "metadata": {
        "colab": {
          "base_uri": "https://localhost:8080/"
        },
        "id": "XknRVNYNfKLk",
        "outputId": "30963ca5-9573-49eb-d375-5cd590ee68b8"
      },
      "execution_count": null,
      "outputs": [
        {
          "output_type": "stream",
          "name": "stdout",
          "text": [
            "Masukkan ukuran peta: 12\n",
            "\n",
            "Selamat datang di Treasure Hunt! Peta memiliki 12 lokasi (0 hingga 11).\n",
            "Harta karun telah disembunyikan secara acak!\n",
            "\n",
            "Cobalah untuk menemukan harta karun dengan menebak indeks yang benar.\n",
            "\n",
            "Peta saat ini:  _ _ _ _ _ _ _ _ _ _ _ _\n",
            "Masukkan indeks tebakanmu (0-11): 2\n",
            "❌ Tidak ada harta di lokasi ini. Coba lagi!\n",
            "\n",
            "Peta saat ini:  _ _ O _ _ _ _ _ _ _ _ _\n",
            "Masukkan indeks tebakanmu (0-11): 0\n",
            "❌ Tidak ada harta di lokasi ini. Coba lagi!\n",
            "\n",
            "Peta saat ini:  O _ O _ _ _ _ _ _ _ _ _\n",
            "Masukkan indeks tebakanmu (0-11): 1\n",
            "❌ Tidak ada harta di lokasi ini. Coba lagi!\n",
            "\n",
            "Peta saat ini:  O O O _ _ _ _ _ _ _ _ _\n",
            "Masukkan indeks tebakanmu (0-11): 3\n",
            "❌ Tidak ada harta di lokasi ini. Coba lagi!\n",
            "\n",
            "Peta saat ini:  O O O O _ _ _ _ _ _ _ _\n",
            "Masukkan indeks tebakanmu (0-11): 4\n",
            "❌ Tidak ada harta di lokasi ini. Coba lagi!\n",
            "\n",
            "Peta saat ini:  O O O O O _ _ _ _ _ _ _\n",
            "Masukkan indeks tebakanmu (0-11): 5\n",
            "🎉 Selamat! Kamu menemukan harta karun di lokasi: 5 🎉\n",
            "\n",
            "Terima kasih sudah bermain!\n"
          ]
        }
      ]
    }
  ]
}