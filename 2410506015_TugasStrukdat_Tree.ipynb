{
  "nbformat": 4,
  "nbformat_minor": 0,
  "metadata": {
    "colab": {
      "provenance": [],
      "authorship_tag": "ABX9TyPcx65+LiEkQDpZvnA6HiO9",
      "include_colab_link": true
    },
    "kernelspec": {
      "name": "python3",
      "display_name": "Python 3"
    },
    "language_info": {
      "name": "python"
    }
  },
  "cells": [
    {
      "cell_type": "markdown",
      "metadata": {
        "id": "view-in-github",
        "colab_type": "text"
      },
      "source": [
        "<a href=\"https://colab.research.google.com/github/evellynliena/Praktikum_Struktur_Data/blob/master/2410506015_TugasStrukdat_Tree.ipynb\" target=\"_parent\"><img src=\"https://colab.research.google.com/assets/colab-badge.svg\" alt=\"Open In Colab\"/></a>"
      ]
    },
    {
      "cell_type": "code",
      "execution_count": 2,
      "metadata": {
        "colab": {
          "base_uri": "https://localhost:8080/"
        },
        "id": "9zDpPQaRk52c",
        "outputId": "52a631e9-5e7c-4cf3-e319-60418c6d88ea"
      },
      "outputs": [
        {
          "output_type": "stream",
          "name": "stdout",
          "text": [
            "Masukkan nama lengkap: evellyn liena\n",
            "Masukkan NPM: 2410506015\n",
            "Masukkan tanggal lahir (DD-MM-YYYY): 11-09-2006\n",
            "\n",
            "Inorder Traversal dari tree manual:\n",
            "11\n",
            "5\n",
            "12\n",
            "15\n",
            "9\n"
          ]
        }
      ],
      "source": [
        "class Node:\n",
        "    def __init__(self, data):\n",
        "        self.data = data\n",
        "        self.left = None\n",
        "        self.right = None\n",
        "\n",
        "def inorder_traversal(node):\n",
        "    if node:\n",
        "        inorder_traversal(node.left)\n",
        "        print(node.data)\n",
        "        inorder_traversal(node.right)\n",
        "\n",
        "nama = input(\"Masukkan nama lengkap: \")\n",
        "npm = input(\"Masukkan NPM: \")\n",
        "tanggal_lahir = input(\"Masukkan tanggal lahir (DD-MM-YYYY): \")\n",
        "\n",
        "jumlah_huruf_nama = len(nama.replace(\" \", \"\"))\n",
        "jumlah_vokal = sum(1 for c in nama.lower() if c in 'aiueo')\n",
        "dua_digit_akhir_npm = int(npm[-2:])\n",
        "tanggal = int(tanggal_lahir.split(\"-\")[0])\n",
        "bulan = int(tanggal_lahir.split(\"-\")[1])\n",
        "\n",
        "root = Node(jumlah_huruf_nama)\n",
        "root.left = Node(jumlah_vokal)\n",
        "root.right = Node(dua_digit_akhir_npm)\n",
        "root.left.left = Node(tanggal)\n",
        "root.right.right = Node(bulan)\n",
        "\n",
        "print(\"\\nInorder Traversal dari tree manual:\")\n",
        "inorder_traversal(root)"
      ]
    },
    {
      "cell_type": "code",
      "source": [
        "class Node:\n",
        "    def __init__(self, data):\n",
        "        self.data = data\n",
        "        self.left = None\n",
        "        self.right = None\n",
        "\n",
        "class BST:\n",
        "    def __init__(self):\n",
        "        self.root = None\n",
        "\n",
        "    def insert(self, data):\n",
        "        if self.root is None:\n",
        "            self.root = Node(data)\n",
        "        else:\n",
        "            self._insert_recursive(self.root, data)\n",
        "\n",
        "    def _insert_recursive(self, node, data):\n",
        "        if data < node.data:\n",
        "            if node.left is None:\n",
        "                node.left = Node(data)\n",
        "            else:\n",
        "                self._insert_recursive(node.left, data)\n",
        "        elif data > node.data:\n",
        "            if node.right is None:\n",
        "                node.right = Node(data)\n",
        "            else:\n",
        "                self._insert_recursive(node.right, data)\n",
        "\n",
        "    def inorder(self):\n",
        "        result = []\n",
        "        self._inorder_recursive(self.root, result)\n",
        "        return result\n",
        "\n",
        "    def _inorder_recursive(self, node, result):\n",
        "        if node:\n",
        "            self._inorder_recursive(node.left, result)\n",
        "            result.append(node.data)\n",
        "            self._inorder_recursive(node.right, result)\n",
        "\n",
        "    def preorder(self):\n",
        "        result = []\n",
        "        self._preorder_recursive(self.root, result)\n",
        "        return result\n",
        "\n",
        "    def _preorder_recursive(self, node, result):\n",
        "        if node:\n",
        "            result.append(node.data)\n",
        "            self._preorder_recursive(node.left, result)\n",
        "            self._preorder_recursive(node.right, result)\n",
        "\n",
        "    def postorder(self):\n",
        "        result = []\n",
        "        self._postorder_recursive(self.root, result)\n",
        "        return result\n",
        "\n",
        "    def _postorder_recursive(self, node, result):\n",
        "        if node:\n",
        "            self._postorder_recursive(node.left, result)\n",
        "            self._postorder_recursive(node.right, result)\n",
        "            result.append(node.data)\n",
        "\n",
        "    def search(self, key):\n",
        "        return self._search_recursive(self.root, key)\n",
        "\n",
        "    def _search_recursive(self, node, key):\n",
        "        if node is None:\n",
        "            return False\n",
        "        if key == node.data:\n",
        "            return True\n",
        "        elif key < node.data:\n",
        "            return self._search_recursive(node.left, key)\n",
        "        else:\n",
        "            return self._search_recursive(node.right, key)\n",
        "\n",
        "nama = input(\"Masukkan nama depan Anda: \")\n",
        "npm = input(\"Masukkan NPM Anda: \")\n",
        "tanggal_lahir = input(\"Masukkan tanggal lahir (DD-MM-YYYY): \")\n",
        "\n",
        "tanggal = int(tanggal_lahir.split(\"-\")[0])\n",
        "bulan = int(tanggal_lahir.split(\"-\")[1])\n",
        "\n",
        "angka_list = [\n",
        "    int(npm[-3:]),\n",
        "    tanggal,\n",
        "    bulan,\n",
        "    ord(nama[0]),\n",
        "    ord(nama[1]),\n",
        "    18,\n",
        "    127\n",
        "]\n",
        "\n",
        "print(\"\\nDaftar angka unik untuk BST:\", angka_list)\n",
        "\n",
        "bst = BST()\n",
        "for num in angka_list:\n",
        "    bst.insert(num)\n",
        "\n",
        "print(\"\\nInorder Traversal  :\", bst.inorder())\n",
        "print(\"Preorder Traversal :\", bst.preorder())\n",
        "print(\"Postorder Traversal:\", bst.postorder())\n",
        "\n",
        "cari_1 = int(npm[-2:])\n",
        "cari_2 = 18\n",
        "\n",
        "print(\"\\nPencarian angka\", cari_1, \":\", \"Ditemukan\" if bst.search(cari_1) else \"Tidak ditemukan\")\n",
        "print(\"Pencarian angka\", cari_2, \":\", \"Ditemukan\" if bst.search(cari_2) else \"Tidak ditemukan\")\n"
      ],
      "metadata": {
        "colab": {
          "base_uri": "https://localhost:8080/"
        },
        "id": "OIU5nuAjrDyA",
        "outputId": "d3b23eee-6f15-482e-bb25-2322e815fa00"
      },
      "execution_count": 6,
      "outputs": [
        {
          "output_type": "stream",
          "name": "stdout",
          "text": [
            "Masukkan nama depan Anda: Evellyn\n",
            "Masukkan NPM Anda: 2410506015\n",
            "Masukkan tanggal lahir (DD-MM-YYYY): 11-09-2006\n",
            "\n",
            "Daftar angka unik untuk BST: [15, 11, 9, 69, 118, 18, 127]\n",
            "\n",
            "Inorder Traversal  : [9, 11, 15, 18, 69, 118, 127]\n",
            "Preorder Traversal : [15, 11, 9, 69, 18, 118, 127]\n",
            "Postorder Traversal: [9, 11, 18, 127, 118, 69, 15]\n",
            "\n",
            "Pencarian angka 15 : Ditemukan\n",
            "Pencarian angka 18 : Ditemukan\n"
          ]
        }
      ]
    }
  ]
}